{
  "nbformat": 4,
  "nbformat_minor": 0,
  "metadata": {
    "colab": {
      "name": "Bayesian networks.ipynb",
      "provenance": [],
      "collapsed_sections": []
    },
    "kernelspec": {
      "name": "python3",
      "display_name": "Python 3"
    },
    "language_info": {
      "name": "python"
    }
  },
  "cells": [
    {
      "cell_type": "code",
      "metadata": {
        "colab": {
          "base_uri": "https://localhost:8080/"
        },
        "id": "1q-1eArJbiEn",
        "outputId": "7802ea22-39d8-4689-a971-da08238159ba"
      },
      "source": [
        "!pip install pomegranate"
      ],
      "execution_count": null,
      "outputs": [
        {
          "output_type": "stream",
          "text": [
            "Requirement already satisfied: pomegranate in /usr/local/lib/python3.7/dist-packages (0.14.5)\n",
            "Requirement already satisfied: networkx>=2.4 in /usr/local/lib/python3.7/dist-packages (from pomegranate) (2.5.1)\n",
            "Requirement already satisfied: pyyaml in /usr/local/lib/python3.7/dist-packages (from pomegranate) (3.13)\n",
            "Requirement already satisfied: numpy>=1.20.0 in /usr/local/lib/python3.7/dist-packages (from pomegranate) (1.20.3)\n",
            "Requirement already satisfied: scipy>=0.17.0 in /usr/local/lib/python3.7/dist-packages (from pomegranate) (1.4.1)\n",
            "Requirement already satisfied: joblib>=0.9.0b4 in /usr/local/lib/python3.7/dist-packages (from pomegranate) (1.0.1)\n",
            "Requirement already satisfied: decorator<5,>=4.3 in /usr/local/lib/python3.7/dist-packages (from networkx>=2.4->pomegranate) (4.4.2)\n"
          ],
          "name": "stdout"
        }
      ]
    },
    {
      "cell_type": "code",
      "metadata": {
        "id": "p0xTcMoeblXg"
      },
      "source": [
        "from pomegranate import *"
      ],
      "execution_count": null,
      "outputs": []
    },
    {
      "cell_type": "code",
      "metadata": {
        "id": "oPqATNpKbmJK"
      },
      "source": [
        "import numpy as np\n",
        "import pandas as pd\n",
        "%matplotlib inline\n",
        "import matplotlib.pyplot as plt"
      ],
      "execution_count": null,
      "outputs": []
    },
    {
      "cell_type": "code",
      "metadata": {
        "id": "rDU8SRvVcF4q"
      },
      "source": [
        "mydb = pd.read_csv(\"insurance.csv\", dtype = str)"
      ],
      "execution_count": null,
      "outputs": []
    },
    {
      "cell_type": "code",
      "metadata": {
        "id": "055VjfulcSP6"
      },
      "source": [
        "mydb = mydb.head(3000)#оставляем первые 3000 наблюдений без какой-то логики /случайным образом"
      ],
      "execution_count": null,
      "outputs": []
    },
    {
      "cell_type": "markdown",
      "metadata": {
        "id": "jvCrHuNzcWBX"
      },
      "source": [
        "Оставим только 6 наиболее интересных переменных  - хороший ученик, возраст, социально-экономический статус, качество вождения (характеристики, которые связаны с личностью человека), расходы на застрахованный автомобиль (как целевая переменная) и тип окресности."
      ]
    },
    {
      "cell_type": "code",
      "metadata": {
        "id": "EYn723VXeyI4"
      },
      "source": [
        "mydb = mydb[['GoodStudent','Age','SocioEcon','DrivQuality','ThisCarCost','HomeBase']]"
      ],
      "execution_count": null,
      "outputs": []
    },
    {
      "cell_type": "code",
      "metadata": {
        "colab": {
          "base_uri": "https://localhost:8080/",
          "height": 197
        },
        "id": "_Qf0UGcpfLON",
        "outputId": "091648e6-b0db-4408-cc69-918ab2e489a7"
      },
      "source": [
        "mydb.head()"
      ],
      "execution_count": null,
      "outputs": [
        {
          "output_type": "execute_result",
          "data": {
            "text/html": [
              "<div>\n",
              "<style scoped>\n",
              "    .dataframe tbody tr th:only-of-type {\n",
              "        vertical-align: middle;\n",
              "    }\n",
              "\n",
              "    .dataframe tbody tr th {\n",
              "        vertical-align: top;\n",
              "    }\n",
              "\n",
              "    .dataframe thead th {\n",
              "        text-align: right;\n",
              "    }\n",
              "</style>\n",
              "<table border=\"1\" class=\"dataframe\">\n",
              "  <thead>\n",
              "    <tr style=\"text-align: right;\">\n",
              "      <th></th>\n",
              "      <th>GoodStudent</th>\n",
              "      <th>Age</th>\n",
              "      <th>SocioEcon</th>\n",
              "      <th>DrivQuality</th>\n",
              "      <th>ThisCarCost</th>\n",
              "      <th>HomeBase</th>\n",
              "    </tr>\n",
              "  </thead>\n",
              "  <tbody>\n",
              "    <tr>\n",
              "      <th>0</th>\n",
              "      <td>False</td>\n",
              "      <td>Adult</td>\n",
              "      <td>Prole</td>\n",
              "      <td>Poor</td>\n",
              "      <td>TenThou</td>\n",
              "      <td>City</td>\n",
              "    </tr>\n",
              "    <tr>\n",
              "      <th>1</th>\n",
              "      <td>False</td>\n",
              "      <td>Senior</td>\n",
              "      <td>Prole</td>\n",
              "      <td>Normal</td>\n",
              "      <td>Thousand</td>\n",
              "      <td>City</td>\n",
              "    </tr>\n",
              "    <tr>\n",
              "      <th>2</th>\n",
              "      <td>False</td>\n",
              "      <td>Senior</td>\n",
              "      <td>UpperMiddle</td>\n",
              "      <td>Excellent</td>\n",
              "      <td>Thousand</td>\n",
              "      <td>City</td>\n",
              "    </tr>\n",
              "    <tr>\n",
              "      <th>3</th>\n",
              "      <td>False</td>\n",
              "      <td>Adolescent</td>\n",
              "      <td>Middle</td>\n",
              "      <td>Normal</td>\n",
              "      <td>Thousand</td>\n",
              "      <td>Suburb</td>\n",
              "    </tr>\n",
              "    <tr>\n",
              "      <th>4</th>\n",
              "      <td>False</td>\n",
              "      <td>Adolescent</td>\n",
              "      <td>Prole</td>\n",
              "      <td>Poor</td>\n",
              "      <td>TenThou</td>\n",
              "      <td>City</td>\n",
              "    </tr>\n",
              "  </tbody>\n",
              "</table>\n",
              "</div>"
            ],
            "text/plain": [
              "  GoodStudent         Age    SocioEcon DrivQuality ThisCarCost HomeBase\n",
              "0       False       Adult        Prole        Poor     TenThou     City\n",
              "1       False      Senior        Prole      Normal    Thousand     City\n",
              "2       False      Senior  UpperMiddle   Excellent    Thousand     City\n",
              "3       False  Adolescent       Middle      Normal    Thousand   Suburb\n",
              "4       False  Adolescent        Prole        Poor     TenThou     City"
            ]
          },
          "metadata": {
            "tags": []
          },
          "execution_count": 7
        }
      ]
    },
    {
      "cell_type": "markdown",
      "metadata": {
        "id": "prImyuL6mmwE"
      },
      "source": [
        "Удалим пропущенные значения для построения структуры "
      ]
    },
    {
      "cell_type": "code",
      "metadata": {
        "id": "dYb6MfdefpFZ"
      },
      "source": [
        "mydb = mydb.dropna()"
      ],
      "execution_count": null,
      "outputs": []
    },
    {
      "cell_type": "code",
      "metadata": {
        "colab": {
          "base_uri": "https://localhost:8080/"
        },
        "id": "oxdAcxn-n4TP",
        "outputId": "21688e52-d7d4-4db7-ecda-434dbfd40375"
      },
      "source": [
        "# need pygraphviz http://pygraphviz.github.io/documentation/pygraphviz-1.3.1/install.html\n",
        "!apt install libgraphviz-dev\n",
        "!pip install pygraphviz"
      ],
      "execution_count": null,
      "outputs": [
        {
          "output_type": "stream",
          "text": [
            "Reading package lists... Done\n",
            "Building dependency tree       \n",
            "Reading state information... Done\n",
            "The following additional packages will be installed:\n",
            "  libgail-common libgail18 libgtk2.0-0 libgtk2.0-bin libgtk2.0-common\n",
            "  libgvc6-plugins-gtk libxdot4\n",
            "Suggested packages:\n",
            "  gvfs\n",
            "The following NEW packages will be installed:\n",
            "  libgail-common libgail18 libgraphviz-dev libgtk2.0-0 libgtk2.0-bin\n",
            "  libgtk2.0-common libgvc6-plugins-gtk libxdot4\n",
            "0 upgraded, 8 newly installed, 0 to remove and 39 not upgraded.\n",
            "Need to get 2,120 kB of archives.\n",
            "After this operation, 7,128 kB of additional disk space will be used.\n",
            "Get:1 http://archive.ubuntu.com/ubuntu bionic/main amd64 libgtk2.0-common all 2.24.32-1ubuntu1 [125 kB]\n",
            "Get:2 http://archive.ubuntu.com/ubuntu bionic/main amd64 libgtk2.0-0 amd64 2.24.32-1ubuntu1 [1,769 kB]\n",
            "Get:3 http://archive.ubuntu.com/ubuntu bionic/main amd64 libgail18 amd64 2.24.32-1ubuntu1 [14.2 kB]\n",
            "Get:4 http://archive.ubuntu.com/ubuntu bionic/main amd64 libgail-common amd64 2.24.32-1ubuntu1 [112 kB]\n",
            "Get:5 http://archive.ubuntu.com/ubuntu bionic/universe amd64 libxdot4 amd64 2.40.1-2 [15.7 kB]\n",
            "Get:6 http://archive.ubuntu.com/ubuntu bionic/universe amd64 libgvc6-plugins-gtk amd64 2.40.1-2 [18.2 kB]\n",
            "Get:7 http://archive.ubuntu.com/ubuntu bionic/universe amd64 libgraphviz-dev amd64 2.40.1-2 [57.3 kB]\n",
            "Get:8 http://archive.ubuntu.com/ubuntu bionic/main amd64 libgtk2.0-bin amd64 2.24.32-1ubuntu1 [7,536 B]\n",
            "Fetched 2,120 kB in 1s (2,616 kB/s)\n",
            "Selecting previously unselected package libgtk2.0-common.\n",
            "(Reading database ... 160772 files and directories currently installed.)\n",
            "Preparing to unpack .../0-libgtk2.0-common_2.24.32-1ubuntu1_all.deb ...\n",
            "Unpacking libgtk2.0-common (2.24.32-1ubuntu1) ...\n",
            "Selecting previously unselected package libgtk2.0-0:amd64.\n",
            "Preparing to unpack .../1-libgtk2.0-0_2.24.32-1ubuntu1_amd64.deb ...\n",
            "Unpacking libgtk2.0-0:amd64 (2.24.32-1ubuntu1) ...\n",
            "Selecting previously unselected package libgail18:amd64.\n",
            "Preparing to unpack .../2-libgail18_2.24.32-1ubuntu1_amd64.deb ...\n",
            "Unpacking libgail18:amd64 (2.24.32-1ubuntu1) ...\n",
            "Selecting previously unselected package libgail-common:amd64.\n",
            "Preparing to unpack .../3-libgail-common_2.24.32-1ubuntu1_amd64.deb ...\n",
            "Unpacking libgail-common:amd64 (2.24.32-1ubuntu1) ...\n",
            "Selecting previously unselected package libxdot4.\n",
            "Preparing to unpack .../4-libxdot4_2.40.1-2_amd64.deb ...\n",
            "Unpacking libxdot4 (2.40.1-2) ...\n",
            "Selecting previously unselected package libgvc6-plugins-gtk.\n",
            "Preparing to unpack .../5-libgvc6-plugins-gtk_2.40.1-2_amd64.deb ...\n",
            "Unpacking libgvc6-plugins-gtk (2.40.1-2) ...\n",
            "Selecting previously unselected package libgraphviz-dev.\n",
            "Preparing to unpack .../6-libgraphviz-dev_2.40.1-2_amd64.deb ...\n",
            "Unpacking libgraphviz-dev (2.40.1-2) ...\n",
            "Selecting previously unselected package libgtk2.0-bin.\n",
            "Preparing to unpack .../7-libgtk2.0-bin_2.24.32-1ubuntu1_amd64.deb ...\n",
            "Unpacking libgtk2.0-bin (2.24.32-1ubuntu1) ...\n",
            "Setting up libgtk2.0-common (2.24.32-1ubuntu1) ...\n",
            "Setting up libxdot4 (2.40.1-2) ...\n",
            "Setting up libgtk2.0-0:amd64 (2.24.32-1ubuntu1) ...\n",
            "Setting up libgail18:amd64 (2.24.32-1ubuntu1) ...\n",
            "Setting up libgail-common:amd64 (2.24.32-1ubuntu1) ...\n",
            "Setting up libgvc6-plugins-gtk (2.40.1-2) ...\n",
            "Setting up libgraphviz-dev (2.40.1-2) ...\n",
            "Setting up libgtk2.0-bin (2.24.32-1ubuntu1) ...\n",
            "Processing triggers for man-db (2.8.3-2ubuntu0.1) ...\n",
            "Processing triggers for libc-bin (2.27-3ubuntu1.2) ...\n",
            "/sbin/ldconfig.real: /usr/local/lib/python3.7/dist-packages/ideep4py/lib/libmkldnn.so.0 is not a symbolic link\n",
            "\n",
            "Collecting pygraphviz\n",
            "\u001b[?25l  Downloading https://files.pythonhosted.org/packages/3a/d6/2c56f09ee83dbebb62c40487e4c972135661b9984fec9b30b77fb497090c/pygraphviz-1.7.zip (118kB)\n",
            "\u001b[K     |████████████████████████████████| 122kB 24.8MB/s \n",
            "\u001b[?25hBuilding wheels for collected packages: pygraphviz\n",
            "  Building wheel for pygraphviz (setup.py) ... \u001b[?25l\u001b[?25hdone\n",
            "  Created wheel for pygraphviz: filename=pygraphviz-1.7-cp37-cp37m-linux_x86_64.whl size=166131 sha256=a782448296bb3675864ee304e4031f09b06e5ce4f93b40a1184597a6b976ea1f\n",
            "  Stored in directory: /root/.cache/pip/wheels/32/59/00/14934a4292c4359eeabcdbf90f33d309b55d0f1be8a1262523\n",
            "Successfully built pygraphviz\n",
            "Installing collected packages: pygraphviz\n",
            "Successfully installed pygraphviz-1.7\n"
          ],
          "name": "stdout"
        }
      ]
    },
    {
      "cell_type": "code",
      "metadata": {
        "id": "rUNpCgwHnprH"
      },
      "source": [
        "from pygraphviz import *"
      ],
      "execution_count": null,
      "outputs": []
    },
    {
      "cell_type": "markdown",
      "metadata": {
        "id": "qLqnsovOxxUK"
      },
      "source": [
        "Построим байесовскую сеть"
      ]
    },
    {
      "cell_type": "markdown",
      "metadata": {
        "id": "5EEvxFTdm8f1"
      },
      "source": [
        "Первый алгоритм  - Chow-Liu"
      ]
    },
    {
      "cell_type": "code",
      "metadata": {
        "colab": {
          "base_uri": "https://localhost:8080/",
          "height": 247
        },
        "id": "gKZr7Yh2m7qe",
        "outputId": "4602221d-6494-440e-fd4c-ec9e052bdff0"
      },
      "source": [
        "bnet_cl = BayesianNetwork.from_samples(mydb, algorithm='chow-liu')\n",
        "colnames  = mydb.columns\n",
        "for i in range(mydb.shape[1]):\n",
        "  bnet_cl.states[i].name = colnames[i]\n",
        "bnet_cl.plot()"
      ],
      "execution_count": null,
      "outputs": [
        {
          "output_type": "display_data",
          "data": {
            "image/png": "[encoded data removed]",
            "text/plain": [
              "<Figure size 432x288 with 1 Axes>"
            ]
          },
          "metadata": {
            "tags": [],
            "needs_background": "light"
          }
        }
      ]
    },
    {
      "cell_type": "code",
      "metadata": {
        "id": "Ug34UHoeMLr7"
      },
      "source": [
        "bnet_cl.bake()#зафиксируем"
      ],
      "execution_count": null,
      "outputs": []
    },
    {
      "cell_type": "markdown",
      "metadata": {
        "id": "xIupdLX3oEVK"
      },
      "source": [
        "Второй алгоритм - Greedy"
      ]
    },
    {
      "cell_type": "code",
      "metadata": {
        "colab": {
          "base_uri": "https://localhost:8080/",
          "height": 247
        },
        "id": "sB8eHytFo0Y0",
        "outputId": "6271aa63-5150-4d9b-8eaf-7081a9acb9ea"
      },
      "source": [
        "bnet_g = BayesianNetwork.from_samples(mydb, algorithm='greedy')\n",
        "for i in range(mydb.shape[1]):\n",
        "  bnet_g.states[i].name = colnames[i]\n",
        "bnet_g.plot()"
      ],
      "execution_count": null,
      "outputs": [
        {
          "output_type": "display_data",
          "data": {
            "image/png": "[encoded data removed]",
            "text/plain": [
              "<Figure size 432x288 with 1 Axes>"
            ]
          },
          "metadata": {
            "tags": [],
            "needs_background": "light"
          }
        }
      ]
    },
    {
      "cell_type": "code",
      "metadata": {
        "id": "MHoO9LAhMwtr"
      },
      "source": [
        "bnet_g.bake()#зафиксируем"
      ],
      "execution_count": null,
      "outputs": []
    },
    {
      "cell_type": "markdown",
      "metadata": {
        "id": "zbMOBKcyyizU"
      },
      "source": [
        "Третий алгоритм - Exact"
      ]
    },
    {
      "cell_type": "code",
      "metadata": {
        "colab": {
          "base_uri": "https://localhost:8080/",
          "height": 247
        },
        "id": "XeNvKzrnysPp",
        "outputId": "017dadee-21cd-4878-909b-dae3436de109"
      },
      "source": [
        "bnet_e = BayesianNetwork.from_samples(mydb, algorithm='exact')\n",
        "for i in range(mydb.shape[1]):\n",
        "  bnet_e.states[i].name = colnames[i]\n",
        "bnet_e.plot()"
      ],
      "execution_count": null,
      "outputs": [
        {
          "output_type": "display_data",
          "data": {
            "image/png": "[encoded data removed]",
            "text/plain": [
              "<Figure size 432x288 with 1 Axes>"
            ]
          },
          "metadata": {
            "tags": [],
            "needs_background": "light"
          }
        }
      ]
    },
    {
      "cell_type": "code",
      "metadata": {
        "id": "2Kbcc0ueM5Gu"
      },
      "source": [
        "bnet_e.bake()#зафиксируем"
      ],
      "execution_count": null,
      "outputs": []
    },
    {
      "cell_type": "markdown",
      "metadata": {
        "id": "swtgvzdbzCks"
      },
      "source": [
        "Сравним полученные модели, используя метрику \"правдоподобия\""
      ]
    },
    {
      "cell_type": "markdown",
      "metadata": {
        "id": "z0juEjfQo6wC"
      },
      "source": [
        "Посмотрим на общую оценку полученных сетей"
      ]
    },
    {
      "cell_type": "code",
      "metadata": {
        "id": "a5PFpwM0pPl-"
      },
      "source": [
        "X = mydb.to_numpy()\n",
        "#для каждой комбинации считаем вероятность того, что она могла быть и складываем вместе //некая метрика правдоподобия"
      ],
      "execution_count": null,
      "outputs": []
    },
    {
      "cell_type": "code",
      "metadata": {
        "colab": {
          "base_uri": "https://localhost:8080/"
        },
        "id": "Fnd9WPyAo7vY",
        "outputId": "2761911b-7643-41ff-9a89-0d6756a01257"
      },
      "source": [
        "print(\"Chow-Liu:\", bnet_cl.log_probability(X).sum())\n",
        "print(\"Greedy:\", bnet_g.log_probability(X).sum())\n",
        "print(\"Exact:\", bnet_e.log_probability(X).sum())"
      ],
      "execution_count": null,
      "outputs": [
        {
          "output_type": "stream",
          "text": [
            "Chow-Liu: -13384.95165480621\n",
            "Greedy: -13417.23735234921\n",
            "Exact: -13384.95165480621\n"
          ],
          "name": "stdout"
        }
      ]
    },
    {
      "cell_type": "markdown",
      "metadata": {
        "id": "bG-BIfACzfHY"
      },
      "source": [
        "Модель, которая имеет оценку ближе к 0 является лучшей. В данном случае модели, построенные с использованием алгоритмов Chow-Liu и Exact получили одинаковую наилучшую оценку. Для дальнейшего анализа используем первую модель."
      ]
    },
    {
      "cell_type": "markdown",
      "metadata": {
        "id": "ZCgdB6wT3sci"
      },
      "source": [
        "Посмотрим как будут меняться расходы на застрахованный автомобиль (ThisCarCost), при изменении других переменных"
      ]
    },
    {
      "cell_type": "markdown",
      "metadata": {
        "id": "9DzFOIQG_ndg"
      },
      "source": [
        "Изначально посмотрим распределение для ThisCarCost"
      ]
    },
    {
      "cell_type": "code",
      "metadata": {
        "id": "xAaCnqQfA8xO"
      },
      "source": [
        "initialProba = bnet_cl.predict_proba([[ None, None, None, None, None, None]])#свидетельство"
      ],
      "execution_count": null,
      "outputs": []
    },
    {
      "cell_type": "code",
      "metadata": {
        "colab": {
          "base_uri": "https://localhost:8080/"
        },
        "id": "lSeD6T4QAvyw",
        "outputId": "0d0cbc82-6f4f-40b4-e035-b0c61322c9b2"
      },
      "source": [
        "initialProba[0][4].parameters"
      ],
      "execution_count": null,
      "outputs": [
        {
          "output_type": "execute_result",
          "data": {
            "text/plain": [
              "[{'HundredThou': 0.04900000000000034,\n",
              "  'Million': 0.0016666666666671072,\n",
              "  'TenThou': 0.1290000000000002,\n",
              "  'Thousand': 0.8203333333333322}]"
            ]
          },
          "metadata": {
            "tags": []
          },
          "execution_count": 21
        }
      ]
    },
    {
      "cell_type": "markdown",
      "metadata": {
        "id": "PnrsYR4A5BDN"
      },
      "source": [
        "1. Какова вероятность получить низкий уровень расходов на застрахованный автомобиль (Thousand) в младшем возрасте, среднем социально-экономическом статусе, низком качестве вождения, в городе, учитывая статус плохого ученика (GoodStudent=False)"
      ]
    },
    {
      "cell_type": "code",
      "metadata": {
        "colab": {
          "base_uri": "https://localhost:8080/"
        },
        "id": "1UNJRGtj8bwc",
        "outputId": "83992e32-bc66-4e00-b879-a73f90430d6c"
      },
      "source": [
        "mydb.columns# порядок переменных в данных"
      ],
      "execution_count": null,
      "outputs": [
        {
          "output_type": "execute_result",
          "data": {
            "text/plain": [
              "Index(['GoodStudent', 'Age', 'SocioEcon', 'DrivQuality', 'ThisCarCost',\n",
              "       'HomeBase'],\n",
              "      dtype='object')"
            ]
          },
          "metadata": {
            "tags": []
          },
          "execution_count": 22
        }
      ]
    },
    {
      "cell_type": "code",
      "metadata": {
        "colab": {
          "base_uri": "https://localhost:8080/"
        },
        "id": "OodLUDYC3Ntp",
        "outputId": "f477077c-947a-4100-f39e-e6d805e406b7"
      },
      "source": [
        "bnet_cl.predict_proba([['False', \"Adolescent\",\"Middle\", \"Poor\", None, \"City\"]])[0][4].parameters"
      ],
      "execution_count": null,
      "outputs": [
        {
          "output_type": "execute_result",
          "data": {
            "text/plain": [
              "[{'HundredThou': 0.14793654554460062,\n",
              "  'Million': 0.002480231774071435,\n",
              "  'TenThou': 0.3322356981081417,\n",
              "  'Thousand': 0.5173475245731862}]"
            ]
          },
          "metadata": {
            "tags": []
          },
          "execution_count": 23
        }
      ]
    },
    {
      "cell_type": "markdown",
      "metadata": {
        "id": "EWta8ynuNVxr"
      },
      "source": [
        "Вероятность значительно уменьшилась, посмотрим какое влияние оказывает качество вождения"
      ]
    },
    {
      "cell_type": "markdown",
      "metadata": {
        "id": "OZNcuu9A9XA1"
      },
      "source": [
        "2. Как изменится эта вероятность в той же ситуации, но увеличив качество вождения до самого высокого (Excellent)"
      ]
    },
    {
      "cell_type": "code",
      "metadata": {
        "colab": {
          "base_uri": "https://localhost:8080/"
        },
        "id": "i6Nhnq3t9s9p",
        "outputId": "72eaaabf-8afd-4bcf-fc48-79d880021819"
      },
      "source": [
        "bnet_cl.predict_proba([['False', \"Adolescent\",\"Middle\", \"Excellent\", None, \"City\"]])[0][4].parameters"
      ],
      "execution_count": null,
      "outputs": [
        {
          "output_type": "execute_result",
          "data": {
            "text/plain": [
              "[{'HundredThou': 0.004263756662045946,\n",
              "  'Million': 0.0,\n",
              "  'TenThou': 0.014576098356295234,\n",
              "  'Thousand': 0.9811601449816587}]"
            ]
          },
          "metadata": {
            "tags": []
          },
          "execution_count": 24
        }
      ]
    },
    {
      "cell_type": "markdown",
      "metadata": {
        "id": "LYUT5gWCQe48"
      },
      "source": [
        "Мы получили почти единицу, это может говорить о том, что на уровень расходов на автомобиль качество вождения оказывает значительное влияние"
      ]
    },
    {
      "cell_type": "markdown",
      "metadata": {
        "id": "gZSpAeq2P8In"
      },
      "source": [
        "3. Попробуем изменить статус ученика на хороший, возраст на средний и социальный статус на максимальный"
      ]
    },
    {
      "cell_type": "code",
      "metadata": {
        "colab": {
          "base_uri": "https://localhost:8080/"
        },
        "id": "PDEXqaWGQj27",
        "outputId": "feab8c04-fdbc-430c-9e40-5b45bce07792"
      },
      "source": [
        "bnet_cl.predict_proba([['True', \"Adult\",\"Wealthy\", \"Excellent\", None, \"City\"]])[0][4].parameters"
      ],
      "execution_count": null,
      "outputs": [
        {
          "output_type": "execute_result",
          "data": {
            "text/plain": [
              "[{'HundredThou': 0.0,\n",
              "  'Million': 0.0,\n",
              "  'TenThou': 0.003927272059936963,\n",
              "  'Thousand': 0.9960727279400534}]"
            ]
          },
          "metadata": {
            "tags": []
          },
          "execution_count": 25
        }
      ]
    },
    {
      "cell_type": "markdown",
      "metadata": {
        "id": "r0HiRQ_uNqYM"
      },
      "source": [
        "Вероятность тоже немного увеличилась, но так как в предыдущем случае увеличение было гораздо больше, это может говорить о том, что изменение других переменных  не особо влияет на уровень расходов, а изменение качества вождения как раз сильно влияет на уровень расходов на застрахованный автомобиль -- чем выше качество, тем выше вероятность малых расходов.\n"
      ]
    },
    {
      "cell_type": "code",
      "metadata": {
        "id": "U1KLVAQV1a7E"
      },
      "source": [
        "from sklearn.model_selection import train_test_split"
      ],
      "execution_count": null,
      "outputs": []
    },
    {
      "cell_type": "code",
      "metadata": {
        "id": "50I6E7fg0gk9"
      },
      "source": [
        "y = mydb.ThisCarCost\n",
        "X = mydb.drop(columns = \"ThisCarCost\")\n",
        "X_train, X_test, y_train, y_test = train_test_split(X, y, test_size = 1/3, random_state = 0)"
      ],
      "execution_count": null,
      "outputs": []
    },
    {
      "cell_type": "code",
      "metadata": {
        "id": "VUBjdS8Q_8Lf"
      },
      "source": [
        "df = pd.concat([X_train, y_train], axis=1)"
      ],
      "execution_count": null,
      "outputs": []
    },
    {
      "cell_type": "code",
      "metadata": {
        "colab": {
          "base_uri": "https://localhost:8080/",
          "height": 197
        },
        "id": "5Fv9-Db8AX0h",
        "outputId": "afd810f0-b1f8-4511-b2e0-b2b6658b4ce0"
      },
      "source": [
        "df.head()"
      ],
      "execution_count": null,
      "outputs": [
        {
          "output_type": "execute_result",
          "data": {
            "text/html": [
              "<div>\n",
              "<style scoped>\n",
              "    .dataframe tbody tr th:only-of-type {\n",
              "        vertical-align: middle;\n",
              "    }\n",
              "\n",
              "    .dataframe tbody tr th {\n",
              "        vertical-align: top;\n",
              "    }\n",
              "\n",
              "    .dataframe thead th {\n",
              "        text-align: right;\n",
              "    }\n",
              "</style>\n",
              "<table border=\"1\" class=\"dataframe\">\n",
              "  <thead>\n",
              "    <tr style=\"text-align: right;\">\n",
              "      <th></th>\n",
              "      <th>GoodStudent</th>\n",
              "      <th>Age</th>\n",
              "      <th>SocioEcon</th>\n",
              "      <th>DrivQuality</th>\n",
              "      <th>HomeBase</th>\n",
              "      <th>ThisCarCost</th>\n",
              "    </tr>\n",
              "  </thead>\n",
              "  <tbody>\n",
              "    <tr>\n",
              "      <th>713</th>\n",
              "      <td>False</td>\n",
              "      <td>Adult</td>\n",
              "      <td>Middle</td>\n",
              "      <td>Poor</td>\n",
              "      <td>Secure</td>\n",
              "      <td>TenThou</td>\n",
              "    </tr>\n",
              "    <tr>\n",
              "      <th>2921</th>\n",
              "      <td>False</td>\n",
              "      <td>Adult</td>\n",
              "      <td>Middle</td>\n",
              "      <td>Poor</td>\n",
              "      <td>Rural</td>\n",
              "      <td>Thousand</td>\n",
              "    </tr>\n",
              "    <tr>\n",
              "      <th>2678</th>\n",
              "      <td>False</td>\n",
              "      <td>Adult</td>\n",
              "      <td>Middle</td>\n",
              "      <td>Normal</td>\n",
              "      <td>Suburb</td>\n",
              "      <td>Thousand</td>\n",
              "    </tr>\n",
              "    <tr>\n",
              "      <th>2687</th>\n",
              "      <td>False</td>\n",
              "      <td>Adult</td>\n",
              "      <td>Middle</td>\n",
              "      <td>Normal</td>\n",
              "      <td>Suburb</td>\n",
              "      <td>Thousand</td>\n",
              "    </tr>\n",
              "    <tr>\n",
              "      <th>2235</th>\n",
              "      <td>False</td>\n",
              "      <td>Adult</td>\n",
              "      <td>UpperMiddle</td>\n",
              "      <td>Poor</td>\n",
              "      <td>Secure</td>\n",
              "      <td>Thousand</td>\n",
              "    </tr>\n",
              "  </tbody>\n",
              "</table>\n",
              "</div>"
            ],
            "text/plain": [
              "     GoodStudent    Age    SocioEcon DrivQuality HomeBase ThisCarCost\n",
              "713        False  Adult       Middle        Poor   Secure     TenThou\n",
              "2921       False  Adult       Middle        Poor    Rural    Thousand\n",
              "2678       False  Adult       Middle      Normal   Suburb    Thousand\n",
              "2687       False  Adult       Middle      Normal   Suburb    Thousand\n",
              "2235       False  Adult  UpperMiddle        Poor   Secure    Thousand"
            ]
          },
          "metadata": {
            "tags": []
          },
          "execution_count": 29
        }
      ]
    },
    {
      "cell_type": "markdown",
      "metadata": {
        "id": "cAxc6NDUFLN_"
      },
      "source": [
        "Строим модель"
      ]
    },
    {
      "cell_type": "code",
      "metadata": {
        "id": "c2cpTgOyEpCN"
      },
      "source": [
        "bnet_n = BayesianNetwork.from_samples(df, algorithm='chow-liu') #выбираем данный алгоритм, потому что в прошлом случае он показал лучшее качество "
      ],
      "execution_count": null,
      "outputs": []
    },
    {
      "cell_type": "markdown",
      "metadata": {
        "id": "ijZvuCScFOSb"
      },
      "source": [
        "Предсказание"
      ]
    },
    {
      "cell_type": "code",
      "metadata": {
        "id": "gkJPoMmWGEKB"
      },
      "source": [
        "df_p = pd.concat([X_test, y_test], axis=1)"
      ],
      "execution_count": null,
      "outputs": []
    },
    {
      "cell_type": "code",
      "metadata": {
        "colab": {
          "base_uri": "https://localhost:8080/",
          "height": 197
        },
        "id": "rIyEEgFF4lkI",
        "outputId": "0a2e6b0d-da59-493e-cc60-d03cbd5a6de3"
      },
      "source": [
        "df_p_n=df_p \n",
        "df_p_n[\"ThisCarCost\"]=None\n",
        "df_p_n.head()"
      ],
      "execution_count": null,
      "outputs": [
        {
          "output_type": "execute_result",
          "data": {
            "text/html": [
              "<div>\n",
              "<style scoped>\n",
              "    .dataframe tbody tr th:only-of-type {\n",
              "        vertical-align: middle;\n",
              "    }\n",
              "\n",
              "    .dataframe tbody tr th {\n",
              "        vertical-align: top;\n",
              "    }\n",
              "\n",
              "    .dataframe thead th {\n",
              "        text-align: right;\n",
              "    }\n",
              "</style>\n",
              "<table border=\"1\" class=\"dataframe\">\n",
              "  <thead>\n",
              "    <tr style=\"text-align: right;\">\n",
              "      <th></th>\n",
              "      <th>GoodStudent</th>\n",
              "      <th>Age</th>\n",
              "      <th>SocioEcon</th>\n",
              "      <th>DrivQuality</th>\n",
              "      <th>HomeBase</th>\n",
              "      <th>ThisCarCost</th>\n",
              "    </tr>\n",
              "  </thead>\n",
              "  <tbody>\n",
              "    <tr>\n",
              "      <th>311</th>\n",
              "      <td>False</td>\n",
              "      <td>Adult</td>\n",
              "      <td>UpperMiddle</td>\n",
              "      <td>Normal</td>\n",
              "      <td>Suburb</td>\n",
              "      <td>None</td>\n",
              "    </tr>\n",
              "    <tr>\n",
              "      <th>1025</th>\n",
              "      <td>False</td>\n",
              "      <td>Senior</td>\n",
              "      <td>Prole</td>\n",
              "      <td>Normal</td>\n",
              "      <td>City</td>\n",
              "      <td>None</td>\n",
              "    </tr>\n",
              "    <tr>\n",
              "      <th>1587</th>\n",
              "      <td>False</td>\n",
              "      <td>Adolescent</td>\n",
              "      <td>Prole</td>\n",
              "      <td>Poor</td>\n",
              "      <td>City</td>\n",
              "      <td>None</td>\n",
              "    </tr>\n",
              "    <tr>\n",
              "      <th>2941</th>\n",
              "      <td>False</td>\n",
              "      <td>Adult</td>\n",
              "      <td>Middle</td>\n",
              "      <td>Normal</td>\n",
              "      <td>Secure</td>\n",
              "      <td>None</td>\n",
              "    </tr>\n",
              "    <tr>\n",
              "      <th>2980</th>\n",
              "      <td>False</td>\n",
              "      <td>Adolescent</td>\n",
              "      <td>Middle</td>\n",
              "      <td>Poor</td>\n",
              "      <td>Suburb</td>\n",
              "      <td>None</td>\n",
              "    </tr>\n",
              "  </tbody>\n",
              "</table>\n",
              "</div>"
            ],
            "text/plain": [
              "     GoodStudent         Age    SocioEcon DrivQuality HomeBase ThisCarCost\n",
              "311        False       Adult  UpperMiddle      Normal   Suburb        None\n",
              "1025       False      Senior        Prole      Normal     City        None\n",
              "1587       False  Adolescent        Prole        Poor     City        None\n",
              "2941       False       Adult       Middle      Normal   Secure        None\n",
              "2980       False  Adolescent       Middle        Poor   Suburb        None"
            ]
          },
          "metadata": {
            "tags": []
          },
          "execution_count": 32
        }
      ]
    },
    {
      "cell_type": "code",
      "metadata": {
        "colab": {
          "base_uri": "https://localhost:8080/"
        },
        "id": "zmhZUr3TG0MP",
        "outputId": "c12de88c-94a4-4db6-d265-87adb64493e5"
      },
      "source": [
        "print(df_p_n[0:].to_numpy())"
      ],
      "execution_count": null,
      "outputs": [
        {
          "output_type": "stream",
          "text": [
            "[['False' 'Adult' 'UpperMiddle' 'Normal' 'Suburb' None]\n",
            " ['False' 'Senior' 'Prole' 'Normal' 'City' None]\n",
            " ['False' 'Adolescent' 'Prole' 'Poor' 'City' None]\n",
            " ...\n",
            " ['False' 'Adolescent' 'Prole' 'Poor' 'Rural' None]\n",
            " ['False' 'Adult' 'Middle' 'Normal' 'City' None]\n",
            " ['False' 'Adult' 'Middle' 'Excellent' 'Secure' None]]\n"
          ],
          "name": "stdout"
        }
      ]
    },
    {
      "cell_type": "code",
      "metadata": {
        "id": "J8cEyL9LGlB9"
      },
      "source": [
        "bnet_n.bake()"
      ],
      "execution_count": null,
      "outputs": []
    },
    {
      "cell_type": "code",
      "metadata": {
        "id": "5Z3gWkKoFkZ4"
      },
      "source": [
        "tr_pred = bnet_n.predict(df_p_n.to_numpy()) "
      ],
      "execution_count": null,
      "outputs": []
    },
    {
      "cell_type": "code",
      "metadata": {
        "colab": {
          "base_uri": "https://localhost:8080/"
        },
        "id": "41suv7T1P83s",
        "outputId": "4a4aeb30-4da3-402e-e01e-47c46d89e7b5"
      },
      "source": [
        "print(tr_pred)"
      ],
      "execution_count": null,
      "outputs": [
        {
          "output_type": "stream",
          "text": [
            "[array(['False', 'Adult', 'UpperMiddle', 'Normal', 'Suburb', 'Thousand'],\n",
            "      dtype=object), array(['False', 'Senior', 'Prole', 'Normal', 'City', 'Thousand'],\n",
            "      dtype=object), array(['False', 'Adolescent', 'Prole', 'Poor', 'City', 'Thousand'],\n",
            "      dtype=object), array(['False', 'Adult', 'Middle', 'Normal', 'Secure', 'Thousand'],\n",
            "      dtype=object), array(['False', 'Adolescent', 'Middle', 'Poor', 'Suburb', 'Thousand'],\n",
            "      dtype=object), array(['False', 'Adolescent', 'Prole', 'Poor', 'City', 'Thousand'],\n",
            "      dtype=object), array(['True', 'Adolescent', 'Middle', 'Poor', 'Suburb', 'Thousand'],\n",
            "      dtype=object), array(['False', 'Adolescent', 'Prole', 'Poor', 'Rural', 'Thousand'],\n",
            "      dtype=object), array(['False', 'Senior', 'Middle', 'Normal', 'Secure', 'Thousand'],\n",
            "      dtype=object), array(['False', 'Adult', 'Middle', 'Poor', 'Suburb', 'Thousand'],\n",
            "      dtype=object), array(['False', 'Senior', 'Middle', 'Normal', 'Secure', 'Thousand'],\n",
            "      dtype=object), array(['False', 'Adolescent', 'Middle', 'Poor', 'Suburb', 'Thousand'],\n",
            "      dtype=object), array(['False', 'Adult', 'UpperMiddle', 'Excellent', 'Secure', 'Thousand'],\n",
            "      dtype=object), array(['False', 'Adult', 'Prole', 'Poor', 'Rural', 'Thousand'],\n",
            "      dtype=object), array(['False', 'Senior', 'UpperMiddle', 'Excellent', 'Secure',\n",
            "       'Thousand'], dtype=object), array(['False', 'Adult', 'Middle', 'Normal', 'Secure', 'Thousand'],\n",
            "      dtype=object), array(['False', 'Adult', 'Middle', 'Normal', 'Rural', 'Thousand'],\n",
            "      dtype=object), array(['False', 'Adult', 'Middle', 'Poor', 'Secure', 'Thousand'],\n",
            "      dtype=object), array(['False', 'Adult', 'UpperMiddle', 'Normal', 'Rural', 'Thousand'],\n",
            "      dtype=object), array(['False', 'Adult', 'Middle', 'Normal', 'Secure', 'Thousand'],\n",
            "      dtype=object), array(['False', 'Senior', 'Prole', 'Normal', 'City', 'Thousand'],\n",
            "      dtype=object), array(['False', 'Adolescent', 'Middle', 'Poor', 'City', 'Thousand'],\n",
            "      dtype=object), array(['False', 'Adult', 'Middle', 'Poor', 'Suburb', 'Thousand'],\n",
            "      dtype=object), array(['False', 'Adult', 'Middle', 'Poor', 'Secure', 'Thousand'],\n",
            "      dtype=object), array(['False', 'Adult', 'Middle', 'Poor', 'City', 'Thousand'],\n",
            "      dtype=object), array(['False', 'Adolescent', 'Prole', 'Normal', 'City', 'Thousand'],\n",
            "      dtype=object), array(['False', 'Adult', 'Prole', 'Normal', 'City', 'Thousand'],\n",
            "      dtype=object), array(['False', 'Senior', 'Prole', 'Normal', 'City', 'Thousand'],\n",
            "      dtype=object), array(['False', 'Adult', 'Prole', 'Normal', 'City', 'Thousand'],\n",
            "      dtype=object), array(['False', 'Adult', 'Middle', 'Excellent', 'Suburb', 'Thousand'],\n",
            "      dtype=object), array(['False', 'Adult', 'Middle', 'Normal', 'Suburb', 'Thousand'],\n",
            "      dtype=object), array(['False', 'Senior', 'Prole', 'Excellent', 'City', 'Thousand'],\n",
            "      dtype=object), array(['False', 'Senior', 'Prole', 'Normal', 'City', 'Thousand'],\n",
            "      dtype=object), array(['False', 'Adult', 'Middle', 'Poor', 'Suburb', 'Thousand'],\n",
            "      dtype=object), array(['False', 'Senior', 'UpperMiddle', 'Excellent', 'Secure',\n",
            "       'Thousand'], dtype=object), array(['False', 'Adolescent', 'Middle', 'Normal', 'Suburb', 'Thousand'],\n",
            "      dtype=object), array(['False', 'Senior', 'Middle', 'Normal', 'Suburb', 'Thousand'],\n",
            "      dtype=object), array(['True', 'Adolescent', 'UpperMiddle', 'Poor', 'Suburb', 'Thousand'],\n",
            "      dtype=object), array(['False', 'Senior', 'Prole', 'Excellent', 'City', 'Thousand'],\n",
            "      dtype=object), array(['False', 'Senior', 'Middle', 'Normal', 'Secure', 'Thousand'],\n",
            "      dtype=object), array(['False', 'Adult', 'Middle', 'Excellent', 'Secure', 'Thousand'],\n",
            "      dtype=object), array(['True', 'Adolescent', 'Middle', 'Poor', 'Suburb', 'Thousand'],\n",
            "      dtype=object), array(['False', 'Adult', 'Middle', 'Normal', 'Suburb', 'Thousand'],\n",
            "      dtype=object), array(['False', 'Adult', 'Middle', 'Poor', 'Secure', 'Thousand'],\n",
            "      dtype=object), array(['True', 'Adolescent', 'UpperMiddle', 'Poor', 'Secure', 'Thousand'],\n",
            "      dtype=object), array(['False', 'Adult', 'Prole', 'Poor', 'Rural', 'Thousand'],\n",
            "      dtype=object), array(['False', 'Adult', 'Middle', 'Poor', 'Suburb', 'Thousand'],\n",
            "      dtype=object), array(['False', 'Adult', 'Prole', 'Excellent', 'City', 'Thousand'],\n",
            "      dtype=object), array(['False', 'Adolescent', 'Prole', 'Poor', 'Rural', 'Thousand'],\n",
            "      dtype=object), array(['False', 'Adult', 'Prole', 'Normal', 'City', 'Thousand'],\n",
            "      dtype=object), array(['False', 'Adult', 'Prole', 'Poor', 'City', 'Thousand'],\n",
            "      dtype=object), array(['False', 'Adult', 'Prole', 'Excellent', 'City', 'Thousand'],\n",
            "      dtype=object), array(['False', 'Adult', 'Prole', 'Poor', 'Rural', 'Thousand'],\n",
            "      dtype=object), array(['False', 'Adult', 'Prole', 'Normal', 'City', 'Thousand'],\n",
            "      dtype=object), array(['False', 'Adolescent', 'Middle', 'Normal', 'City', 'Thousand'],\n",
            "      dtype=object), array(['False', 'Adult', 'Middle', 'Poor', 'Suburb', 'Thousand'],\n",
            "      dtype=object), array(['False', 'Adult', 'Prole', 'Normal', 'Rural', 'Thousand'],\n",
            "      dtype=object), array(['False', 'Adolescent', 'Middle', 'Normal', 'Secure', 'Thousand'],\n",
            "      dtype=object), array(['False', 'Adult', 'Prole', 'Poor', 'City', 'Thousand'],\n",
            "      dtype=object), array(['False', 'Adolescent', 'Middle', 'Poor', 'Suburb', 'Thousand'],\n",
            "      dtype=object), array(['False', 'Adult', 'Middle', 'Normal', 'Suburb', 'Thousand'],\n",
            "      dtype=object), array(['False', 'Adult', 'Middle', 'Normal', 'Secure', 'Thousand'],\n",
            "      dtype=object), array(['False', 'Adult', 'Middle', 'Excellent', 'Secure', 'Thousand'],\n",
            "      dtype=object), array(['False', 'Adolescent', 'Prole', 'Excellent', 'Suburb', 'Thousand'],\n",
            "      dtype=object), array(['False', 'Adult', 'Prole', 'Normal', 'City', 'Thousand'],\n",
            "      dtype=object), array(['False', 'Senior', 'UpperMiddle', 'Normal', 'Suburb', 'Thousand'],\n",
            "      dtype=object), array(['False', 'Senior', 'UpperMiddle', 'Poor', 'Suburb', 'Thousand'],\n",
            "      dtype=object), array(['False', 'Adult', 'Middle', 'Normal', 'Secure', 'Thousand'],\n",
            "      dtype=object), array(['False', 'Adolescent', 'Middle', 'Poor', 'Suburb', 'Thousand'],\n",
            "      dtype=object), array(['False', 'Adolescent', 'Middle', 'Poor', 'Suburb', 'Thousand'],\n",
            "      dtype=object), array(['False', 'Adult', 'UpperMiddle', 'Normal', 'Secure', 'Thousand'],\n",
            "      dtype=object), array(['False', 'Adult', 'Middle', 'Normal', 'Suburb', 'Thousand'],\n",
            "      dtype=object), array(['False', 'Senior', 'UpperMiddle', 'Excellent', 'Secure',\n",
            "       'Thousand'], dtype=object), array(['False', 'Adult', 'UpperMiddle', 'Poor', 'Secure', 'Thousand'],\n",
            "      dtype=object), array(['False', 'Adult', 'UpperMiddle', 'Excellent', 'Secure', 'Thousand'],\n",
            "      dtype=object), array(['False', 'Adult', 'Prole', 'Excellent', 'Rural', 'Thousand'],\n",
            "      dtype=object), array(['False', 'Adult', 'Prole', 'Normal', 'City', 'Thousand'],\n",
            "      dtype=object), array(['False', 'Adolescent', 'Middle', 'Poor', 'Secure', 'Thousand'],\n",
            "      dtype=object), array(['False', 'Adult', 'Prole', 'Normal', 'City', 'Thousand'],\n",
            "      dtype=object), array(['False', 'Adult', 'Middle', 'Excellent', 'Secure', 'Thousand'],\n",
            "      dtype=object), array(['False', 'Adult', 'Middle', 'Poor', 'Suburb', 'Thousand'],\n",
            "      dtype=object), array(['False', 'Adult', 'Middle', 'Normal', 'Secure', 'Thousand'],\n",
            "      dtype=object), array(['False', 'Adult', 'Prole', 'Normal', 'City', 'Thousand'],\n",
            "      dtype=object), array(['False', 'Adult', 'Prole', 'Excellent', 'City', 'Thousand'],\n",
            "      dtype=object), array(['False', 'Adult', 'UpperMiddle', 'Poor', 'Secure', 'Thousand'],\n",
            "      dtype=object), array(['False', 'Adult', 'Middle', 'Normal', 'Rural', 'Thousand'],\n",
            "      dtype=object), array(['False', 'Adult', 'Prole', 'Poor', 'City', 'Thousand'],\n",
            "      dtype=object), array(['False', 'Adult', 'Middle', 'Excellent', 'Suburb', 'Thousand'],\n",
            "      dtype=object), array(['False', 'Adolescent', 'UpperMiddle', 'Normal', 'Secure',\n",
            "       'Thousand'], dtype=object), array(['False', 'Senior', 'Prole', 'Normal', 'City', 'Thousand'],\n",
            "      dtype=object), array(['False', 'Adult', 'Middle', 'Normal', 'Suburb', 'Thousand'],\n",
            "      dtype=object), array(['False', 'Adult', 'Prole', 'Excellent', 'City', 'Thousand'],\n",
            "      dtype=object), array(['False', 'Adult', 'Prole', 'Poor', 'City', 'Thousand'],\n",
            "      dtype=object), array(['False', 'Adolescent', 'Middle', 'Normal', 'Rural', 'Thousand'],\n",
            "      dtype=object), array(['False', 'Adult', 'Prole', 'Poor', 'City', 'Thousand'],\n",
            "      dtype=object), array(['False', 'Adult', 'Prole', 'Normal', 'City', 'Thousand'],\n",
            "      dtype=object), array(['False', 'Adult', 'Prole', 'Normal', 'City', 'Thousand'],\n",
            "      dtype=object), array(['False', 'Senior', 'Middle', 'Excellent', 'Suburb', 'Thousand'],\n",
            "      dtype=object), array(['False', 'Adult', 'Prole', 'Poor', 'Suburb', 'Thousand'],\n",
            "      dtype=object), array(['False', 'Senior', 'Middle', 'Normal', 'Secure', 'Thousand'],\n",
            "      dtype=object), array(['False', 'Adult', 'Middle', 'Poor', 'Suburb', 'Thousand'],\n",
            "      dtype=object), array(['False', 'Senior', 'Prole', 'Excellent', 'Rural', 'Thousand'],\n",
            "      dtype=object), array(['False', 'Adult', 'Prole', 'Normal', 'City', 'Thousand'],\n",
            "      dtype=object), array(['False', 'Adult', 'Prole', 'Excellent', 'City', 'Thousand'],\n",
            "      dtype=object), array(['False', 'Adult', 'UpperMiddle', 'Excellent', 'Suburb', 'Thousand'],\n",
            "      dtype=object), array(['False', 'Adult', 'Middle', 'Normal', 'Suburb', 'Thousand'],\n",
            "      dtype=object), array(['False', 'Adult', 'Middle', 'Excellent', 'Suburb', 'Thousand'],\n",
            "      dtype=object), array(['False', 'Adult', 'Prole', 'Poor', 'City', 'Thousand'],\n",
            "      dtype=object), array(['False', 'Adult', 'Prole', 'Poor', 'City', 'Thousand'],\n",
            "      dtype=object), array(['False', 'Adult', 'Prole', 'Poor', 'Rural', 'Thousand'],\n",
            "      dtype=object), array(['False', 'Adult', 'UpperMiddle', 'Normal', 'Suburb', 'Thousand'],\n",
            "      dtype=object), array(['False', 'Senior', 'Prole', 'Normal', 'City', 'Thousand'],\n",
            "      dtype=object), array(['True', 'Adolescent', 'Prole', 'Poor', 'City', 'Thousand'],\n",
            "      dtype=object), array(['False', 'Adult', 'Middle', 'Poor', 'Suburb', 'Thousand'],\n",
            "      dtype=object), array(['False', 'Adult', 'Middle', 'Poor', 'Rural', 'Thousand'],\n",
            "      dtype=object), array(['False', 'Senior', 'Prole', 'Excellent', 'City', 'Thousand'],\n",
            "      dtype=object), array(['False', 'Senior', 'Prole', 'Excellent', 'Rural', 'Thousand'],\n",
            "      dtype=object), array(['False', 'Adolescent', 'Prole', 'Normal', 'City', 'Thousand'],\n",
            "      dtype=object), array(['False', 'Adult', 'UpperMiddle', 'Poor', 'Suburb', 'Thousand'],\n",
            "      dtype=object), array(['False', 'Senior', 'Middle', 'Normal', 'Suburb', 'Thousand'],\n",
            "      dtype=object), array(['False', 'Adult', 'Prole', 'Poor', 'Rural', 'Thousand'],\n",
            "      dtype=object), array(['False', 'Adolescent', 'Middle', 'Poor', 'Suburb', 'Thousand'],\n",
            "      dtype=object), array(['False', 'Adult', 'Prole', 'Normal', 'Suburb', 'Thousand'],\n",
            "      dtype=object), array(['False', 'Adult', 'Prole', 'Excellent', 'City', 'Thousand'],\n",
            "      dtype=object), array(['False', 'Adult', 'UpperMiddle', 'Poor', 'Suburb', 'Thousand'],\n",
            "      dtype=object), array(['False', 'Adult', 'Prole', 'Excellent', 'City', 'Thousand'],\n",
            "      dtype=object), array(['False', 'Adult', 'Prole', 'Poor', 'City', 'Thousand'],\n",
            "      dtype=object), array(['True', 'Adolescent', 'Prole', 'Poor', 'City', 'Thousand'],\n",
            "      dtype=object), array(['False', 'Adolescent', 'Middle', 'Poor', 'City', 'Thousand'],\n",
            "      dtype=object), array(['False', 'Adult', 'Prole', 'Normal', 'City', 'Thousand'],\n",
            "      dtype=object), array(['False', 'Senior', 'Prole', 'Normal', 'City', 'Thousand'],\n",
            "      dtype=object), array(['False', 'Adult', 'Middle', 'Excellent', 'Secure', 'Thousand'],\n",
            "      dtype=object), array(['False', 'Adult', 'Middle', 'Normal', 'Rural', 'Thousand'],\n",
            "      dtype=object), array(['False', 'Adult', 'UpperMiddle', 'Normal', 'Secure', 'Thousand'],\n",
            "      dtype=object), array(['False', 'Adult', 'Prole', 'Normal', 'City', 'Thousand'],\n",
            "      dtype=object), array(['False', 'Adult', 'Middle', 'Normal', 'Suburb', 'Thousand'],\n",
            "      dtype=object), array(['False', 'Adult', 'UpperMiddle', 'Normal', 'Secure', 'Thousand'],\n",
            "      dtype=object), array(['True', 'Adolescent', 'Middle', 'Poor', 'City', 'Thousand'],\n",
            "      dtype=object), array(['False', 'Adolescent', 'Middle', 'Normal', 'Suburb', 'Thousand'],\n",
            "      dtype=object), array(['False', 'Adult', 'Middle', 'Normal', 'Suburb', 'Thousand'],\n",
            "      dtype=object), array(['False', 'Adult', 'UpperMiddle', 'Excellent', 'Suburb', 'Thousand'],\n",
            "      dtype=object), array(['False', 'Senior', 'Prole', 'Normal', 'City', 'Thousand'],\n",
            "      dtype=object), array(['False', 'Adolescent', 'Middle', 'Poor', 'Suburb', 'Thousand'],\n",
            "      dtype=object), array(['False', 'Senior', 'Prole', 'Normal', 'City', 'Thousand'],\n",
            "      dtype=object), array(['False', 'Adult', 'Prole', 'Normal', 'City', 'Thousand'],\n",
            "      dtype=object), array(['False', 'Adult', 'UpperMiddle', 'Poor', 'Secure', 'Thousand'],\n",
            "      dtype=object), array(['False', 'Senior', 'UpperMiddle', 'Normal', 'Secure', 'Thousand'],\n",
            "      dtype=object), array(['False', 'Senior', 'Prole', 'Poor', 'City', 'Thousand'],\n",
            "      dtype=object), array(['False', 'Senior', 'UpperMiddle', 'Normal', 'Secure', 'Thousand'],\n",
            "      dtype=object), array(['False', 'Adult', 'UpperMiddle', 'Poor', 'City', 'Thousand'],\n",
            "      dtype=object), array(['False', 'Senior', 'Prole', 'Poor', 'City', 'Thousand'],\n",
            "      dtype=object), array(['False', 'Adult', 'Prole', 'Poor', 'City', 'Thousand'],\n",
            "      dtype=object), array(['False', 'Adult', 'Prole', 'Normal', 'City', 'Thousand'],\n",
            "      dtype=object), array(['False', 'Adult', 'Prole', 'Poor', 'City', 'Thousand'],\n",
            "      dtype=object), array(['False', 'Adult', 'Prole', 'Excellent', 'Rural', 'Thousand'],\n",
            "      dtype=object), array(['False', 'Adult', 'Middle', 'Poor', 'Suburb', 'Thousand'],\n",
            "      dtype=object), array(['False', 'Adult', 'UpperMiddle', 'Excellent', 'City', 'Thousand'],\n",
            "      dtype=object), array(['False', 'Adult', 'UpperMiddle', 'Excellent', 'Secure', 'Thousand'],\n",
            "      dtype=object), array(['False', 'Adult', 'Prole', 'Poor', 'City', 'Thousand'],\n",
            "      dtype=object), array(['False', 'Adolescent', 'Middle', 'Poor', 'Suburb', 'Thousand'],\n",
            "      dtype=object), array(['False', 'Adult', 'Prole', 'Excellent', 'City', 'Thousand'],\n",
            "      dtype=object), array(['False', 'Adult', 'Prole', 'Poor', 'Rural', 'Thousand'],\n",
            "      dtype=object), array(['False', 'Adult', 'Prole', 'Poor', 'City', 'Thousand'],\n",
            "      dtype=object), array(['False', 'Adult', 'Prole', 'Normal', 'City', 'Thousand'],\n",
            "      dtype=object), array(['False', 'Senior', 'UpperMiddle', 'Normal', 'Secure', 'Thousand'],\n",
            "      dtype=object), array(['False', 'Adult', 'Middle', 'Normal', 'City', 'Thousand'],\n",
            "      dtype=object), array(['False', 'Senior', 'UpperMiddle', 'Normal', 'Secure', 'Thousand'],\n",
            "      dtype=object), array(['False', 'Adolescent', 'Middle', 'Normal', 'Secure', 'Thousand'],\n",
            "      dtype=object), array(['False', 'Adult', 'Middle', 'Normal', 'Suburb', 'Thousand'],\n",
            "      dtype=object), array(['False', 'Adult', 'UpperMiddle', 'Excellent', 'Suburb', 'Thousand'],\n",
            "      dtype=object), array(['False', 'Adult', 'Prole', 'Excellent', 'City', 'Thousand'],\n",
            "      dtype=object), array(['False', 'Senior', 'Middle', 'Poor', 'Suburb', 'Thousand'],\n",
            "      dtype=object), array(['False', 'Senior', 'Prole', 'Normal', 'Suburb', 'Thousand'],\n",
            "      dtype=object), array(['False', 'Adolescent', 'Prole', 'Normal', 'City', 'Thousand'],\n",
            "      dtype=object), array(['False', 'Adolescent', 'Middle', 'Poor', 'City', 'Thousand'],\n",
            "      dtype=object), array(['False', 'Adult', 'Middle', 'Poor', 'Suburb', 'Thousand'],\n",
            "      dtype=object), array(['False', 'Adult', 'UpperMiddle', 'Poor', 'Suburb', 'Thousand'],\n",
            "      dtype=object), array(['False', 'Adult', 'Middle', 'Excellent', 'Secure', 'Thousand'],\n",
            "      dtype=object), array(['False', 'Adult', 'Prole', 'Normal', 'Rural', 'Thousand'],\n",
            "      dtype=object), array(['False', 'Adult', 'Middle', 'Normal', 'Suburb', 'Thousand'],\n",
            "      dtype=object), array(['False', 'Adult', 'UpperMiddle', 'Normal', 'Suburb', 'Thousand'],\n",
            "      dtype=object), array(['False', 'Adult', 'Prole', 'Normal', 'Rural', 'Thousand'],\n",
            "      dtype=object), array(['False', 'Adolescent', 'Prole', 'Excellent', 'City', 'Thousand'],\n",
            "      dtype=object), array(['False', 'Adolescent', 'Middle', 'Poor', 'Suburb', 'Thousand'],\n",
            "      dtype=object), array(['False', 'Senior', 'Prole', 'Poor', 'Rural', 'Thousand'],\n",
            "      dtype=object), array(['False', 'Senior', 'Prole', 'Poor', 'City', 'Thousand'],\n",
            "      dtype=object), array(['False', 'Adult', 'Prole', 'Excellent', 'Rural', 'Thousand'],\n",
            "      dtype=object), array(['False', 'Adult', 'Middle', 'Excellent', 'City', 'Thousand'],\n",
            "      dtype=object), array(['False', 'Adult', 'Prole', 'Excellent', 'City', 'Thousand'],\n",
            "      dtype=object), array(['True', 'Adolescent', 'UpperMiddle', 'Poor', 'Rural', 'Thousand'],\n",
            "      dtype=object), array(['False', 'Adolescent', 'UpperMiddle', 'Normal', 'Suburb',\n",
            "       'Thousand'], dtype=object), array(['False', 'Adult', 'Middle', 'Normal', 'Secure', 'Thousand'],\n",
            "      dtype=object), array(['False', 'Adolescent', 'UpperMiddle', 'Normal', 'Suburb',\n",
            "       'Thousand'], dtype=object), array(['False', 'Senior', 'Middle', 'Normal', 'Secure', 'Thousand'],\n",
            "      dtype=object), array(['False', 'Adult', 'Middle', 'Normal', 'Secure', 'Thousand'],\n",
            "      dtype=object), array(['False', 'Adult', 'Prole', 'Normal', 'City', 'Thousand'],\n",
            "      dtype=object), array(['False', 'Adult', 'Middle', 'Poor', 'City', 'Thousand'],\n",
            "      dtype=object), array(['False', 'Adolescent', 'Middle', 'Poor', 'City', 'Thousand'],\n",
            "      dtype=object), array(['False', 'Senior', 'Prole', 'Normal', 'City', 'Thousand'],\n",
            "      dtype=object), array(['False', 'Senior', 'UpperMiddle', 'Normal', 'Secure', 'Thousand'],\n",
            "      dtype=object), array(['False', 'Senior', 'Middle', 'Normal', 'Secure', 'Thousand'],\n",
            "      dtype=object), array(['False', 'Adult', 'Middle', 'Poor', 'Suburb', 'Thousand'],\n",
            "      dtype=object), array(['False', 'Adult', 'Prole', 'Normal', 'City', 'Thousand'],\n",
            "      dtype=object), array(['False', 'Adolescent', 'Prole', 'Excellent', 'City', 'Thousand'],\n",
            "      dtype=object), array(['False', 'Senior', 'Prole', 'Excellent', 'City', 'Thousand'],\n",
            "      dtype=object), array(['False', 'Adult', 'Middle', 'Poor', 'Suburb', 'Thousand'],\n",
            "      dtype=object), array(['False', 'Adult', 'Prole', 'Poor', 'City', 'Thousand'],\n",
            "      dtype=object), array(['False', 'Adult', 'Middle', 'Excellent', 'Suburb', 'Thousand'],\n",
            "      dtype=object), array(['False', 'Senior', 'Middle', 'Normal', 'Secure', 'Thousand'],\n",
            "      dtype=object), array(['False', 'Senior', 'Prole', 'Normal', 'City', 'Thousand'],\n",
            "      dtype=object), array(['False', 'Adult', 'Middle', 'Excellent', 'Suburb', 'Thousand'],\n",
            "      dtype=object), array(['False', 'Adult', 'UpperMiddle', 'Excellent', 'Secure', 'Thousand'],\n",
            "      dtype=object), array(['False', 'Adult', 'Prole', 'Poor', 'City', 'Thousand'],\n",
            "      dtype=object), array(['False', 'Adult', 'Middle', 'Normal', 'Secure', 'Thousand'],\n",
            "      dtype=object), array(['False', 'Adult', 'UpperMiddle', 'Normal', 'City', 'Thousand'],\n",
            "      dtype=object), array(['False', 'Senior', 'UpperMiddle', 'Normal', 'Secure', 'Thousand'],\n",
            "      dtype=object), array(['False', 'Senior', 'UpperMiddle', 'Normal', 'Secure', 'Thousand'],\n",
            "      dtype=object), array(['False', 'Adult', 'Middle', 'Poor', 'Secure', 'Thousand'],\n",
            "      dtype=object), array(['False', 'Adolescent', 'Prole', 'Normal', 'City', 'Thousand'],\n",
            "      dtype=object), array(['False', 'Adult', 'Middle', 'Poor', 'City', 'Thousand'],\n",
            "      dtype=object), array(['False', 'Adult', 'Middle', 'Normal', 'Suburb', 'Thousand'],\n",
            "      dtype=object), array(['False', 'Adult', 'Prole', 'Normal', 'City', 'Thousand'],\n",
            "      dtype=object), array(['False', 'Adult', 'Prole', 'Poor', 'City', 'Thousand'],\n",
            "      dtype=object), array(['False', 'Adolescent', 'Prole', 'Poor', 'City', 'Thousand'],\n",
            "      dtype=object), array(['False', 'Adult', 'UpperMiddle', 'Poor', 'Secure', 'Thousand'],\n",
            "      dtype=object), array(['False', 'Adult', 'UpperMiddle', 'Poor', 'Secure', 'Thousand'],\n",
            "      dtype=object), array(['False', 'Adult', 'Middle', 'Poor', 'Suburb', 'Thousand'],\n",
            "      dtype=object), array(['False', 'Adult', 'Prole', 'Poor', 'City', 'Thousand'],\n",
            "      dtype=object), array(['False', 'Adolescent', 'UpperMiddle', 'Normal', 'Suburb',\n",
            "       'Thousand'], dtype=object), array(['False', 'Senior', 'Middle', 'Excellent', 'Secure', 'Thousand'],\n",
            "      dtype=object), array(['False', 'Senior', 'UpperMiddle', 'Poor', 'Secure', 'Thousand'],\n",
            "      dtype=object), array(['False', 'Senior', 'Prole', 'Excellent', 'City', 'Thousand'],\n",
            "      dtype=object), array(['False', 'Adult', 'Prole', 'Poor', 'City', 'Thousand'],\n",
            "      dtype=object), array(['False', 'Adult', 'Middle', 'Normal', 'Rural', 'Thousand'],\n",
            "      dtype=object), array(['False', 'Adolescent', 'Middle', 'Poor', 'Rural', 'Thousand'],\n",
            "      dtype=object), array(['False', 'Adult', 'Prole', 'Normal', 'City', 'Thousand'],\n",
            "      dtype=object), array(['False', 'Senior', 'Prole', 'Normal', 'City', 'Thousand'],\n",
            "      dtype=object), array(['False', 'Senior', 'UpperMiddle', 'Excellent', 'Secure',\n",
            "       'Thousand'], dtype=object), array(['False', 'Adult', 'Prole', 'Normal', 'City', 'Thousand'],\n",
            "      dtype=object), array(['False', 'Senior', 'Middle', 'Poor', 'Secure', 'Thousand'],\n",
            "      dtype=object), array(['False', 'Adolescent', 'Prole', 'Poor', 'City', 'Thousand'],\n",
            "      dtype=object), array(['False', 'Adult', 'Middle', 'Normal', 'Rural', 'Thousand'],\n",
            "      dtype=object), array(['False', 'Adult', 'Middle', 'Poor', 'Suburb', 'Thousand'],\n",
            "      dtype=object), array(['False', 'Adult', 'Prole', 'Poor', 'Rural', 'Thousand'],\n",
            "      dtype=object), array(['False', 'Adult', 'Prole', 'Excellent', 'City', 'Thousand'],\n",
            "      dtype=object), array(['False', 'Adult', 'Prole', 'Poor', 'City', 'Thousand'],\n",
            "      dtype=object), array(['False', 'Adult', 'Prole', 'Normal', 'City', 'Thousand'],\n",
            "      dtype=object), array(['False', 'Adult', 'Prole', 'Poor', 'City', 'Thousand'],\n",
            "      dtype=object), array(['False', 'Adult', 'Middle', 'Normal', 'Suburb', 'Thousand'],\n",
            "      dtype=object), array(['False', 'Senior', 'Prole', 'Normal', 'City', 'Thousand'],\n",
            "      dtype=object), array(['False', 'Adult', 'Prole', 'Poor', 'City', 'Thousand'],\n",
            "      dtype=object), array(['False', 'Senior', 'Prole', 'Normal', 'City', 'Thousand'],\n",
            "      dtype=object), array(['False', 'Adult', 'Prole', 'Poor', 'City', 'Thousand'],\n",
            "      dtype=object), array(['False', 'Adult', 'Prole', 'Poor', 'City', 'Thousand'],\n",
            "      dtype=object), array(['False', 'Adult', 'Middle', 'Normal', 'Secure', 'Thousand'],\n",
            "      dtype=object), array(['False', 'Adult', 'UpperMiddle', 'Normal', 'Secure', 'Thousand'],\n",
            "      dtype=object), array(['False', 'Adult', 'UpperMiddle', 'Excellent', 'City', 'Thousand'],\n",
            "      dtype=object), array(['False', 'Adult', 'Prole', 'Normal', 'City', 'Thousand'],\n",
            "      dtype=object), array(['False', 'Adult', 'Prole', 'Excellent', 'City', 'Thousand'],\n",
            "      dtype=object), array(['False', 'Adult', 'UpperMiddle', 'Normal', 'Suburb', 'Thousand'],\n",
            "      dtype=object), array(['False', 'Adult', 'Prole', 'Poor', 'City', 'Thousand'],\n",
            "      dtype=object), array(['False', 'Adult', 'UpperMiddle', 'Normal', 'Suburb', 'Thousand'],\n",
            "      dtype=object), array(['False', 'Adult', 'UpperMiddle', 'Excellent', 'Suburb', 'Thousand'],\n",
            "      dtype=object), array(['False', 'Adult', 'Prole', 'Normal', 'City', 'Thousand'],\n",
            "      dtype=object), array(['False', 'Adult', 'Middle', 'Normal', 'Secure', 'Thousand'],\n",
            "      dtype=object), array(['False', 'Adult', 'Prole', 'Poor', 'City', 'Thousand'],\n",
            "      dtype=object), array(['False', 'Adolescent', 'UpperMiddle', 'Poor', 'Rural', 'Thousand'],\n",
            "      dtype=object), array(['False', 'Adolescent', 'Prole', 'Poor', 'City', 'Thousand'],\n",
            "      dtype=object), array(['False', 'Adult', 'Prole', 'Excellent', 'City', 'Thousand'],\n",
            "      dtype=object), array(['False', 'Adult', 'Prole', 'Poor', 'City', 'Thousand'],\n",
            "      dtype=object), array(['False', 'Senior', 'Middle', 'Excellent', 'Secure', 'Thousand'],\n",
            "      dtype=object), array(['False', 'Senior', 'Middle', 'Poor', 'Secure', 'Thousand'],\n",
            "      dtype=object), array(['False', 'Adult', 'UpperMiddle', 'Normal', 'Secure', 'Thousand'],\n",
            "      dtype=object), array(['False', 'Adolescent', 'Prole', 'Poor', 'City', 'Thousand'],\n",
            "      dtype=object), array(['False', 'Senior', 'Middle', 'Normal', 'Secure', 'Thousand'],\n",
            "      dtype=object), array(['False', 'Adolescent', 'Middle', 'Poor', 'Suburb', 'Thousand'],\n",
            "      dtype=object), array(['False', 'Adult', 'Middle', 'Excellent', 'Secure', 'Thousand'],\n",
            "      dtype=object), array(['False', 'Adult', 'Middle', 'Poor', 'Rural', 'Thousand'],\n",
            "      dtype=object), array(['False', 'Adult', 'Prole', 'Poor', 'City', 'Thousand'],\n",
            "      dtype=object), array(['False', 'Adolescent', 'UpperMiddle', 'Poor', 'Secure', 'Thousand'],\n",
            "      dtype=object), array(['False', 'Senior', 'Prole', 'Normal', 'City', 'Thousand'],\n",
            "      dtype=object), array(['False', 'Senior', 'Prole', 'Excellent', 'City', 'Thousand'],\n",
            "      dtype=object), array(['False', 'Senior', 'Middle', 'Excellent', 'Secure', 'Thousand'],\n",
            "      dtype=object), array(['False', 'Adolescent', 'Middle', 'Poor', 'Secure', 'Thousand'],\n",
            "      dtype=object), array(['False', 'Adolescent', 'Middle', 'Poor', 'Suburb', 'Thousand'],\n",
            "      dtype=object), array(['False', 'Adult', 'UpperMiddle', 'Normal', 'Secure', 'Thousand'],\n",
            "      dtype=object), array(['False', 'Adult', 'Middle', 'Poor', 'Secure', 'Thousand'],\n",
            "      dtype=object), array(['False', 'Senior', 'Prole', 'Poor', 'Rural', 'Thousand'],\n",
            "      dtype=object), array(['False', 'Senior', 'Prole', 'Normal', 'Suburb', 'Thousand'],\n",
            "      dtype=object), array(['False', 'Senior', 'Middle', 'Poor', 'Suburb', 'Thousand'],\n",
            "      dtype=object), array(['False', 'Adolescent', 'Middle', 'Normal', 'Suburb', 'Thousand'],\n",
            "      dtype=object), array(['False', 'Senior', 'Prole', 'Normal', 'Rural', 'Thousand'],\n",
            "      dtype=object), array(['False', 'Senior', 'UpperMiddle', 'Normal', 'Secure', 'Thousand'],\n",
            "      dtype=object), array(['False', 'Adult', 'Prole', 'Normal', 'City', 'Thousand'],\n",
            "      dtype=object), array(['False', 'Adult', 'Prole', 'Normal', 'City', 'Thousand'],\n",
            "      dtype=object), array(['False', 'Adult', 'Middle', 'Normal', 'Suburb', 'Thousand'],\n",
            "      dtype=object), array(['False', 'Adult', 'Prole', 'Normal', 'City', 'Thousand'],\n",
            "      dtype=object), array(['False', 'Adult', 'Prole', 'Excellent', 'City', 'Thousand'],\n",
            "      dtype=object), array(['False', 'Adult', 'Prole', 'Normal', 'City', 'Thousand'],\n",
            "      dtype=object), array(['False', 'Adult', 'Middle', 'Poor', 'City', 'Thousand'],\n",
            "      dtype=object), array(['False', 'Adult', 'Middle', 'Normal', 'Suburb', 'Thousand'],\n",
            "      dtype=object), array(['False', 'Adult', 'Middle', 'Normal', 'Secure', 'Thousand'],\n",
            "      dtype=object), array(['False', 'Senior', 'Prole', 'Excellent', 'City', 'Thousand'],\n",
            "      dtype=object), array(['False', 'Adult', 'UpperMiddle', 'Excellent', 'Secure', 'Thousand'],\n",
            "      dtype=object), array(['False', 'Adolescent', 'Middle', 'Normal', 'Suburb', 'Thousand'],\n",
            "      dtype=object), array(['False', 'Adult', 'Prole', 'Poor', 'City', 'Thousand'],\n",
            "      dtype=object), array(['False', 'Adolescent', 'Prole', 'Excellent', 'City', 'Thousand'],\n",
            "      dtype=object), array(['False', 'Adolescent', 'Middle', 'Poor', 'City', 'Thousand'],\n",
            "      dtype=object), array(['False', 'Senior', 'UpperMiddle', 'Excellent', 'Secure',\n",
            "       'Thousand'], dtype=object), array(['False', 'Adult', 'Middle', 'Normal', 'Suburb', 'Thousand'],\n",
            "      dtype=object), array(['False', 'Senior', 'Prole', 'Excellent', 'Rural', 'Thousand'],\n",
            "      dtype=object), array(['False', 'Adult', 'UpperMiddle', 'Excellent', 'Secure', 'Thousand'],\n",
            "      dtype=object), array(['True', 'Adolescent', 'UpperMiddle', 'Poor', 'Secure', 'Thousand'],\n",
            "      dtype=object), array(['False', 'Adult', 'Prole', 'Normal', 'City', 'Thousand'],\n",
            "      dtype=object), array(['False', 'Adult', 'Middle', 'Normal', 'Suburb', 'Thousand'],\n",
            "      dtype=object), array(['False', 'Adult', 'UpperMiddle', 'Poor', 'Suburb', 'Thousand'],\n",
            "      dtype=object), array(['False', 'Adult', 'Prole', 'Normal', 'City', 'Thousand'],\n",
            "      dtype=object), array(['False', 'Adolescent', 'Prole', 'Poor', 'Rural', 'Thousand'],\n",
            "      dtype=object), array(['True', 'Adolescent', 'Prole', 'Poor', 'City', 'Thousand'],\n",
            "      dtype=object), array(['False', 'Adolescent', 'Prole', 'Poor', 'Rural', 'Thousand'],\n",
            "      dtype=object), array(['True', 'Adolescent', 'UpperMiddle', 'Poor', 'Rural', 'Thousand'],\n",
            "      dtype=object), array(['False', 'Senior', 'UpperMiddle', 'Excellent', 'Secure',\n",
            "       'Thousand'], dtype=object), array(['False', 'Adolescent', 'Prole', 'Normal', 'City', 'Thousand'],\n",
            "      dtype=object), array(['False', 'Adolescent', 'UpperMiddle', 'Poor', 'Secure', 'Thousand'],\n",
            "      dtype=object), array(['False', 'Senior', 'Middle', 'Poor', 'Secure', 'Thousand'],\n",
            "      dtype=object), array(['False', 'Adult', 'UpperMiddle', 'Poor', 'Rural', 'Thousand'],\n",
            "      dtype=object), array(['False', 'Senior', 'UpperMiddle', 'Normal', 'Secure', 'Thousand'],\n",
            "      dtype=object), array(['False', 'Senior', 'UpperMiddle', 'Normal', 'Secure', 'Thousand'],\n",
            "      dtype=object), array(['False', 'Adult', 'Prole', 'Poor', 'City', 'Thousand'],\n",
            "      dtype=object), array(['False', 'Adult', 'Middle', 'Normal', 'Suburb', 'Thousand'],\n",
            "      dtype=object), array(['False', 'Adolescent', 'UpperMiddle', 'Poor', 'City', 'Thousand'],\n",
            "      dtype=object), array(['True', 'Adolescent', 'Middle', 'Normal', 'Secure', 'Thousand'],\n",
            "      dtype=object), array(['False', 'Adolescent', 'Prole', 'Poor', 'City', 'Thousand'],\n",
            "      dtype=object), array(['False', 'Adult', 'Middle', 'Normal', 'Secure', 'Thousand'],\n",
            "      dtype=object), array(['False', 'Adolescent', 'UpperMiddle', 'Poor', 'City', 'Thousand'],\n",
            "      dtype=object), array(['False', 'Adult', 'Middle', 'Poor', 'Rural', 'Thousand'],\n",
            "      dtype=object), array(['False', 'Adult', 'Middle', 'Normal', 'Suburb', 'Thousand'],\n",
            "      dtype=object), array(['False', 'Adult', 'UpperMiddle', 'Normal', 'Secure', 'Thousand'],\n",
            "      dtype=object), array(['False', 'Adult', 'Prole', 'Poor', 'City', 'Thousand'],\n",
            "      dtype=object), array(['False', 'Adult', 'Wealthy', 'Normal', 'Rural', 'Thousand'],\n",
            "      dtype=object), array(['False', 'Adolescent', 'Prole', 'Poor', 'Rural', 'Thousand'],\n",
            "      dtype=object), array(['False', 'Adult', 'Middle', 'Poor', 'Secure', 'Thousand'],\n",
            "      dtype=object), array(['False', 'Adult', 'UpperMiddle', 'Normal', 'Secure', 'Thousand'],\n",
            "      dtype=object), array(['False', 'Adult', 'Middle', 'Normal', 'Secure', 'Thousand'],\n",
            "      dtype=object), array(['False', 'Senior', 'UpperMiddle', 'Poor', 'Suburb', 'Thousand'],\n",
            "      dtype=object), array(['False', 'Adult', 'UpperMiddle', 'Normal', 'Secure', 'Thousand'],\n",
            "      dtype=object), array(['False', 'Adolescent', 'Middle', 'Poor', 'Suburb', 'Thousand'],\n",
            "      dtype=object), array(['False', 'Adolescent', 'Middle', 'Poor', 'Secure', 'Thousand'],\n",
            "      dtype=object), array(['False', 'Adult', 'UpperMiddle', 'Poor', 'Secure', 'Thousand'],\n",
            "      dtype=object), array(['False', 'Adult', 'Middle', 'Normal', 'Suburb', 'Thousand'],\n",
            "      dtype=object), array(['False', 'Adolescent', 'Prole', 'Excellent', 'City', 'Thousand'],\n",
            "      dtype=object), array(['False', 'Adult', 'Wealthy', 'Excellent', 'Secure', 'Thousand'],\n",
            "      dtype=object), array(['False', 'Senior', 'Prole', 'Poor', 'City', 'Thousand'],\n",
            "      dtype=object), array(['False', 'Adult', 'Middle', 'Poor', 'Suburb', 'Thousand'],\n",
            "      dtype=object), array(['False', 'Adult', 'UpperMiddle', 'Poor', 'Secure', 'Thousand'],\n",
            "      dtype=object), array(['False', 'Adult', 'Prole', 'Normal', 'City', 'Thousand'],\n",
            "      dtype=object), array(['False', 'Adult', 'Prole', 'Normal', 'Rural', 'Thousand'],\n",
            "      dtype=object), array(['False', 'Senior', 'Middle', 'Normal', 'Secure', 'Thousand'],\n",
            "      dtype=object), array(['False', 'Adult', 'UpperMiddle', 'Normal', 'Secure', 'Thousand'],\n",
            "      dtype=object), array(['False', 'Adult', 'Middle', 'Normal', 'Suburb', 'Thousand'],\n",
            "      dtype=object), array(['False', 'Adult', 'Middle', 'Poor', 'Secure', 'Thousand'],\n",
            "      dtype=object), array(['False', 'Senior', 'Prole', 'Excellent', 'Rural', 'Thousand'],\n",
            "      dtype=object), array(['False', 'Adult', 'UpperMiddle', 'Normal', 'Secure', 'Thousand'],\n",
            "      dtype=object), array(['False', 'Adult', 'Prole', 'Normal', 'Rural', 'Thousand'],\n",
            "      dtype=object), array(['False', 'Adult', 'Prole', 'Normal', 'City', 'Thousand'],\n",
            "      dtype=object), array(['False', 'Senior', 'Prole', 'Normal', 'City', 'Thousand'],\n",
            "      dtype=object), array(['False', 'Senior', 'Middle', 'Normal', 'Secure', 'Thousand'],\n",
            "      dtype=object), array(['False', 'Adolescent', 'Prole', 'Poor', 'Rural', 'Thousand'],\n",
            "      dtype=object), array(['False', 'Adult', 'UpperMiddle', 'Poor', 'Secure', 'Thousand'],\n",
            "      dtype=object), array(['False', 'Adult', 'Prole', 'Normal', 'City', 'Thousand'],\n",
            "      dtype=object), array(['False', 'Adult', 'UpperMiddle', 'Excellent', 'Suburb', 'Thousand'],\n",
            "      dtype=object), array(['False', 'Adolescent', 'Prole', 'Poor', 'Rural', 'Thousand'],\n",
            "      dtype=object), array(['False', 'Adult', 'Middle', 'Excellent', 'Suburb', 'Thousand'],\n",
            "      dtype=object), array(['False', 'Adult', 'Middle', 'Poor', 'Secure', 'Thousand'],\n",
            "      dtype=object), array(['False', 'Senior', 'Prole', 'Poor', 'City', 'Thousand'],\n",
            "      dtype=object), array(['False', 'Adult', 'Prole', 'Poor', 'City', 'Thousand'],\n",
            "      dtype=object), array(['False', 'Adult', 'Middle', 'Excellent', 'City', 'Thousand'],\n",
            "      dtype=object), array(['False', 'Senior', 'UpperMiddle', 'Normal', 'Suburb', 'Thousand'],\n",
            "      dtype=object), array(['False', 'Adult', 'Middle', 'Normal', 'Secure', 'Thousand'],\n",
            "      dtype=object), array(['False', 'Adult', 'Prole', 'Poor', 'City', 'Thousand'],\n",
            "      dtype=object), array(['False', 'Adult', 'Prole', 'Poor', 'Rural', 'Thousand'],\n",
            "      dtype=object), array(['False', 'Senior', 'Prole', 'Excellent', 'City', 'Thousand'],\n",
            "      dtype=object), array(['False', 'Adult', 'UpperMiddle', 'Normal', 'Secure', 'Thousand'],\n",
            "      dtype=object), array(['False', 'Senior', 'Middle', 'Poor', 'Suburb', 'Thousand'],\n",
            "      dtype=object), array(['False', 'Senior', 'Prole', 'Normal', 'City', 'Thousand'],\n",
            "      dtype=object), array(['False', 'Adult', 'UpperMiddle', 'Poor', 'Suburb', 'Thousand'],\n",
            "      dtype=object), array(['False', 'Senior', 'UpperMiddle', 'Poor', 'Secure', 'Thousand'],\n",
            "      dtype=object), array(['False', 'Adult', 'Middle', 'Normal', 'Secure', 'Thousand'],\n",
            "      dtype=object), array(['False', 'Adult', 'Middle', 'Excellent', 'Suburb', 'Thousand'],\n",
            "      dtype=object), array(['False', 'Adolescent', 'Middle', 'Poor', 'Suburb', 'Thousand'],\n",
            "      dtype=object), array(['False', 'Adult', 'Prole', 'Poor', 'City', 'Thousand'],\n",
            "      dtype=object), array(['False', 'Adult', 'Middle', 'Excellent', 'Secure', 'Thousand'],\n",
            "      dtype=object), array(['False', 'Senior', 'Prole', 'Excellent', 'City', 'Thousand'],\n",
            "      dtype=object), array(['False', 'Adult', 'Prole', 'Normal', 'City', 'Thousand'],\n",
            "      dtype=object), array(['False', 'Adolescent', 'UpperMiddle', 'Poor', 'Secure', 'Thousand'],\n",
            "      dtype=object), array(['False', 'Adult', 'Prole', 'Normal', 'City', 'Thousand'],\n",
            "      dtype=object), array(['False', 'Adult', 'Middle', 'Poor', 'Suburb', 'Thousand'],\n",
            "      dtype=object), array(['False', 'Adult', 'Prole', 'Normal', 'City', 'Thousand'],\n",
            "      dtype=object), array(['False', 'Adult', 'Prole', 'Normal', 'City', 'Thousand'],\n",
            "      dtype=object), array(['False', 'Adult', 'UpperMiddle', 'Poor', 'City', 'Thousand'],\n",
            "      dtype=object), array(['False', 'Adult', 'Middle', 'Poor', 'City', 'Thousand'],\n",
            "      dtype=object), array(['False', 'Senior', 'UpperMiddle', 'Normal', 'Secure', 'Thousand'],\n",
            "      dtype=object), array(['False', 'Senior', 'Prole', 'Poor', 'City', 'Thousand'],\n",
            "      dtype=object), array(['False', 'Adolescent', 'Middle', 'Normal', 'Suburb', 'Thousand'],\n",
            "      dtype=object), array(['False', 'Senior', 'Prole', 'Excellent', 'City', 'Thousand'],\n",
            "      dtype=object), array(['False', 'Adult', 'Middle', 'Poor', 'Suburb', 'Thousand'],\n",
            "      dtype=object), array(['False', 'Adult', 'Prole', 'Normal', 'City', 'Thousand'],\n",
            "      dtype=object), array(['False', 'Adult', 'Middle', 'Excellent', 'Rural', 'Thousand'],\n",
            "      dtype=object), array(['False', 'Senior', 'Prole', 'Normal', 'Rural', 'Thousand'],\n",
            "      dtype=object), array(['False', 'Adolescent', 'Middle', 'Excellent', 'City', 'Thousand'],\n",
            "      dtype=object), array(['True', 'Adolescent', 'Middle', 'Excellent', 'Suburb', 'Thousand'],\n",
            "      dtype=object), array(['False', 'Senior', 'Middle', 'Excellent', 'Secure', 'Thousand'],\n",
            "      dtype=object), array(['False', 'Adult', 'Prole', 'Normal', 'City', 'Thousand'],\n",
            "      dtype=object), array(['False', 'Adult', 'Middle', 'Excellent', 'Secure', 'Thousand'],\n",
            "      dtype=object), array(['False', 'Adult', 'UpperMiddle', 'Normal', 'Suburb', 'Thousand'],\n",
            "      dtype=object), array(['False', 'Senior', 'UpperMiddle', 'Poor', 'Secure', 'Thousand'],\n",
            "      dtype=object), array(['False', 'Adult', 'Middle', 'Normal', 'Rural', 'Thousand'],\n",
            "      dtype=object), array(['False', 'Adult', 'Prole', 'Normal', 'Rural', 'Thousand'],\n",
            "      dtype=object), array(['False', 'Adult', 'Prole', 'Poor', 'Rural', 'Thousand'],\n",
            "      dtype=object), array(['False', 'Adult', 'Prole', 'Poor', 'City', 'Thousand'],\n",
            "      dtype=object), array(['False', 'Adult', 'Middle', 'Excellent', 'City', 'Thousand'],\n",
            "      dtype=object), array(['False', 'Adult', 'Prole', 'Normal', 'City', 'Thousand'],\n",
            "      dtype=object), array(['False', 'Adult', 'UpperMiddle', 'Excellent', 'Secure', 'Thousand'],\n",
            "      dtype=object), array(['False', 'Adolescent', 'Middle', 'Normal', 'Secure', 'Thousand'],\n",
            "      dtype=object), array(['False', 'Adult', 'Prole', 'Excellent', 'City', 'Thousand'],\n",
            "      dtype=object), array(['False', 'Adult', 'Middle', 'Poor', 'Secure', 'Thousand'],\n",
            "      dtype=object), array(['False', 'Senior', 'Prole', 'Normal', 'City', 'Thousand'],\n",
            "      dtype=object), array(['False', 'Adult', 'Prole', 'Normal', 'City', 'Thousand'],\n",
            "      dtype=object), array(['False', 'Adult', 'Prole', 'Normal', 'City', 'Thousand'],\n",
            "      dtype=object), array(['False', 'Adult', 'Middle', 'Normal', 'Suburb', 'Thousand'],\n",
            "      dtype=object), array(['False', 'Adult', 'Prole', 'Normal', 'City', 'Thousand'],\n",
            "      dtype=object), array(['False', 'Adult', 'Prole', 'Excellent', 'City', 'Thousand'],\n",
            "      dtype=object), array(['False', 'Adolescent', 'Prole', 'Normal', 'City', 'Thousand'],\n",
            "      dtype=object), array(['False', 'Adult', 'UpperMiddle', 'Poor', 'Suburb', 'Thousand'],\n",
            "      dtype=object), array(['False', 'Senior', 'Middle', 'Excellent', 'Secure', 'Thousand'],\n",
            "      dtype=object), array(['False', 'Adolescent', 'Prole', 'Normal', 'Rural', 'Thousand'],\n",
            "      dtype=object), array(['False', 'Adolescent', 'Prole', 'Poor', 'City', 'Thousand'],\n",
            "      dtype=object), array(['False', 'Senior', 'Middle', 'Poor', 'Rural', 'Thousand'],\n",
            "      dtype=object), array(['False', 'Adult', 'Middle', 'Poor', 'Suburb', 'Thousand'],\n",
            "      dtype=object), array(['False', 'Adult', 'UpperMiddle', 'Normal', 'Suburb', 'Thousand'],\n",
            "      dtype=object), array(['False', 'Senior', 'UpperMiddle', 'Normal', 'Secure', 'Thousand'],\n",
            "      dtype=object), array(['False', 'Adolescent', 'Prole', 'Poor', 'City', 'Thousand'],\n",
            "      dtype=object), array(['False', 'Senior', 'Prole', 'Poor', 'City', 'Thousand'],\n",
            "      dtype=object), array(['False', 'Adolescent', 'Middle', 'Normal', 'Secure', 'Thousand'],\n",
            "      dtype=object), array(['False', 'Senior', 'Prole', 'Normal', 'City', 'Thousand'],\n",
            "      dtype=object), array(['False', 'Adult', 'Middle', 'Normal', 'Suburb', 'Thousand'],\n",
            "      dtype=object), array(['False', 'Adult', 'Prole', 'Normal', 'City', 'Thousand'],\n",
            "      dtype=object), array(['False', 'Adolescent', 'Middle', 'Poor', 'City', 'Thousand'],\n",
            "      dtype=object), array(['False', 'Senior', 'Prole', 'Normal', 'City', 'Thousand'],\n",
            "      dtype=object), array(['False', 'Adult', 'UpperMiddle', 'Poor', 'Secure', 'Thousand'],\n",
            "      dtype=object), array(['False', 'Adult', 'Prole', 'Normal', 'City', 'Thousand'],\n",
            "      dtype=object), array(['False', 'Senior', 'Prole', 'Poor', 'City', 'Thousand'],\n",
            "      dtype=object), array(['False', 'Adult', 'UpperMiddle', 'Normal', 'Secure', 'Thousand'],\n",
            "      dtype=object), array(['False', 'Adult', 'Middle', 'Poor', 'Rural', 'Thousand'],\n",
            "      dtype=object), array(['False', 'Adult', 'Prole', 'Excellent', 'City', 'Thousand'],\n",
            "      dtype=object), array(['False', 'Adult', 'Prole', 'Excellent', 'City', 'Thousand'],\n",
            "      dtype=object), array(['False', 'Adult', 'UpperMiddle', 'Normal', 'Secure', 'Thousand'],\n",
            "      dtype=object), array(['False', 'Adult', 'Prole', 'Normal', 'City', 'Thousand'],\n",
            "      dtype=object), array(['False', 'Senior', 'Prole', 'Excellent', 'City', 'Thousand'],\n",
            "      dtype=object), array(['False', 'Adult', 'Prole', 'Normal', 'City', 'Thousand'],\n",
            "      dtype=object), array(['False', 'Adolescent', 'Middle', 'Excellent', 'Rural', 'Thousand'],\n",
            "      dtype=object), array(['False', 'Adult', 'Middle', 'Normal', 'Suburb', 'Thousand'],\n",
            "      dtype=object), array(['False', 'Adult', 'Middle', 'Poor', 'City', 'Thousand'],\n",
            "      dtype=object), array(['False', 'Adult', 'Middle', 'Normal', 'Secure', 'Thousand'],\n",
            "      dtype=object), array(['False', 'Adult', 'Prole', 'Excellent', 'City', 'Thousand'],\n",
            "      dtype=object), array(['False', 'Adult', 'Middle', 'Poor', 'Suburb', 'Thousand'],\n",
            "      dtype=object), array(['False', 'Adolescent', 'Middle', 'Poor', 'Suburb', 'Thousand'],\n",
            "      dtype=object), array(['False', 'Adult', 'Prole', 'Normal', 'City', 'Thousand'],\n",
            "      dtype=object), array(['False', 'Adult', 'Prole', 'Poor', 'City', 'Thousand'],\n",
            "      dtype=object), array(['False', 'Adolescent', 'Middle', 'Poor', 'Rural', 'Thousand'],\n",
            "      dtype=object), array(['False', 'Adult', 'Prole', 'Poor', 'Suburb', 'Thousand'],\n",
            "      dtype=object), array(['False', 'Adult', 'Prole', 'Normal', 'City', 'Thousand'],\n",
            "      dtype=object), array(['False', 'Adolescent', 'Prole', 'Poor', 'City', 'Thousand'],\n",
            "      dtype=object), array(['False', 'Adolescent', 'Prole', 'Poor', 'City', 'Thousand'],\n",
            "      dtype=object), array(['False', 'Adolescent', 'Prole', 'Excellent', 'City', 'Thousand'],\n",
            "      dtype=object), array(['False', 'Adult', 'UpperMiddle', 'Normal', 'Suburb', 'Thousand'],\n",
            "      dtype=object), array(['False', 'Adult', 'Middle', 'Excellent', 'Secure', 'Thousand'],\n",
            "      dtype=object), array(['False', 'Adult', 'Middle', 'Normal', 'Suburb', 'Thousand'],\n",
            "      dtype=object), array(['False', 'Senior', 'UpperMiddle', 'Excellent', 'Secure',\n",
            "       'Thousand'], dtype=object), array(['False', 'Adult', 'Prole', 'Normal', 'City', 'Thousand'],\n",
            "      dtype=object), array(['False', 'Adult', 'Prole', 'Poor', 'City', 'Thousand'],\n",
            "      dtype=object), array(['False', 'Adult', 'Middle', 'Normal', 'Secure', 'Thousand'],\n",
            "      dtype=object), array(['False', 'Adult', 'Prole', 'Excellent', 'City', 'Thousand'],\n",
            "      dtype=object), array(['False', 'Adult', 'Middle', 'Normal', 'Suburb', 'Thousand'],\n",
            "      dtype=object), array(['False', 'Adult', 'Prole', 'Normal', 'City', 'Thousand'],\n",
            "      dtype=object), array(['False', 'Adult', 'Prole', 'Poor', 'City', 'Thousand'],\n",
            "      dtype=object), array(['False', 'Adult', 'Middle', 'Normal', 'Suburb', 'Thousand'],\n",
            "      dtype=object), array(['False', 'Adolescent', 'Prole', 'Poor', 'City', 'Thousand'],\n",
            "      dtype=object), array(['False', 'Senior', 'UpperMiddle', 'Excellent', 'Secure',\n",
            "       'Thousand'], dtype=object), array(['True', 'Adolescent', 'Middle', 'Excellent', 'Suburb', 'Thousand'],\n",
            "      dtype=object), array(['False', 'Adolescent', 'Middle', 'Excellent', 'Secure', 'Thousand'],\n",
            "      dtype=object), array(['False', 'Adolescent', 'Prole', 'Poor', 'City', 'Thousand'],\n",
            "      dtype=object), array(['False', 'Adolescent', 'Prole', 'Poor', 'City', 'Thousand'],\n",
            "      dtype=object), array(['False', 'Adult', 'Middle', 'Normal', 'Suburb', 'Thousand'],\n",
            "      dtype=object), array(['False', 'Adult', 'Middle', 'Normal', 'City', 'Thousand'],\n",
            "      dtype=object), array(['False', 'Adolescent', 'UpperMiddle', 'Normal', 'Secure',\n",
            "       'Thousand'], dtype=object), array(['False', 'Adult', 'UpperMiddle', 'Normal', 'Secure', 'Thousand'],\n",
            "      dtype=object), array(['False', 'Adult', 'Prole', 'Normal', 'Rural', 'Thousand'],\n",
            "      dtype=object), array(['False', 'Senior', 'Prole', 'Excellent', 'Suburb', 'Thousand'],\n",
            "      dtype=object), array(['False', 'Senior', 'Middle', 'Normal', 'Secure', 'Thousand'],\n",
            "      dtype=object), array(['False', 'Adult', 'Prole', 'Poor', 'City', 'Thousand'],\n",
            "      dtype=object), array(['False', 'Adult', 'Prole', 'Normal', 'City', 'Thousand'],\n",
            "      dtype=object), array(['False', 'Adult', 'Middle', 'Normal', 'Secure', 'Thousand'],\n",
            "      dtype=object), array(['False', 'Adult', 'Prole', 'Normal', 'City', 'Thousand'],\n",
            "      dtype=object), array(['False', 'Adolescent', 'Middle', 'Poor', 'Suburb', 'Thousand'],\n",
            "      dtype=object), array(['False', 'Adult', 'Prole', 'Poor', 'City', 'Thousand'],\n",
            "      dtype=object), array(['False', 'Adult', 'Middle', 'Normal', 'Suburb', 'Thousand'],\n",
            "      dtype=object), array(['False', 'Adult', 'UpperMiddle', 'Normal', 'Secure', 'Thousand'],\n",
            "      dtype=object), array(['False', 'Adult', 'Middle', 'Poor', 'Suburb', 'Thousand'],\n",
            "      dtype=object), array(['False', 'Senior', 'UpperMiddle', 'Normal', 'Suburb', 'Thousand'],\n",
            "      dtype=object), array(['False', 'Adult', 'Middle', 'Poor', 'Suburb', 'Thousand'],\n",
            "      dtype=object), array(['False', 'Adult', 'Prole', 'Poor', 'City', 'Thousand'],\n",
            "      dtype=object), array(['False', 'Adult', 'UpperMiddle', 'Excellent', 'Secure', 'Thousand'],\n",
            "      dtype=object), array(['False', 'Adult', 'Middle', 'Excellent', 'Secure', 'Thousand'],\n",
            "      dtype=object), array(['False', 'Adult', 'Middle', 'Poor', 'Rural', 'Thousand'],\n",
            "      dtype=object), array(['False', 'Adult', 'Middle', 'Poor', 'Suburb', 'Thousand'],\n",
            "      dtype=object), array(['False', 'Senior', 'Prole', 'Poor', 'City', 'Thousand'],\n",
            "      dtype=object), array(['False', 'Adult', 'Middle', 'Poor', 'City', 'Thousand'],\n",
            "      dtype=object), array(['False', 'Adult', 'Middle', 'Excellent', 'Secure', 'Thousand'],\n",
            "      dtype=object), array(['False', 'Adult', 'Middle', 'Excellent', 'City', 'Thousand'],\n",
            "      dtype=object), array(['False', 'Adult', 'Prole', 'Poor', 'Rural', 'Thousand'],\n",
            "      dtype=object), array(['False', 'Adult', 'Middle', 'Normal', 'Suburb', 'Thousand'],\n",
            "      dtype=object), array(['True', 'Adolescent', 'Middle', 'Poor', 'Suburb', 'Thousand'],\n",
            "      dtype=object), array(['False', 'Adolescent', 'Middle', 'Normal', 'Rural', 'Thousand'],\n",
            "      dtype=object), array(['False', 'Adult', 'Middle', 'Normal', 'Secure', 'Thousand'],\n",
            "      dtype=object), array(['False', 'Adult', 'UpperMiddle', 'Normal', 'Secure', 'Thousand'],\n",
            "      dtype=object), array(['False', 'Adolescent', 'Middle', 'Normal', 'Suburb', 'Thousand'],\n",
            "      dtype=object), array(['False', 'Adult', 'Prole', 'Normal', 'City', 'Thousand'],\n",
            "      dtype=object), array(['False', 'Adult', 'Prole', 'Poor', 'City', 'Thousand'],\n",
            "      dtype=object), array(['False', 'Adolescent', 'Middle', 'Poor', 'City', 'Thousand'],\n",
            "      dtype=object), array(['False', 'Senior', 'UpperMiddle', 'Normal', 'City', 'Thousand'],\n",
            "      dtype=object), array(['False', 'Adolescent', 'Prole', 'Poor', 'City', 'Thousand'],\n",
            "      dtype=object), array(['False', 'Adult', 'UpperMiddle', 'Poor', 'Suburb', 'Thousand'],\n",
            "      dtype=object), array(['False', 'Adolescent', 'Prole', 'Poor', 'City', 'Thousand'],\n",
            "      dtype=object), array(['False', 'Adult', 'Middle', 'Normal', 'Secure', 'Thousand'],\n",
            "      dtype=object), array(['True', 'Adolescent', 'Prole', 'Excellent', 'City', 'Thousand'],\n",
            "      dtype=object), array(['False', 'Adult', 'Middle', 'Normal', 'Suburb', 'Thousand'],\n",
            "      dtype=object), array(['False', 'Adult', 'Middle', 'Poor', 'Suburb', 'Thousand'],\n",
            "      dtype=object), array(['False', 'Senior', 'Middle', 'Normal', 'Rural', 'Thousand'],\n",
            "      dtype=object), array(['False', 'Adult', 'Prole', 'Normal', 'City', 'Thousand'],\n",
            "      dtype=object), array(['False', 'Adult', 'UpperMiddle', 'Poor', 'Suburb', 'Thousand'],\n",
            "      dtype=object), array(['False', 'Senior', 'Prole', 'Normal', 'City', 'Thousand'],\n",
            "      dtype=object), array(['True', 'Adolescent', 'UpperMiddle', 'Poor', 'City', 'Thousand'],\n",
            "      dtype=object), array(['False', 'Adult', 'Middle', 'Poor', 'Secure', 'Thousand'],\n",
            "      dtype=object), array(['False', 'Adult', 'UpperMiddle', 'Excellent', 'Suburb', 'Thousand'],\n",
            "      dtype=object), array(['False', 'Senior', 'Middle', 'Poor', 'Suburb', 'Thousand'],\n",
            "      dtype=object), array(['False', 'Adult', 'Middle', 'Normal', 'Rural', 'Thousand'],\n",
            "      dtype=object), array(['False', 'Adult', 'Prole', 'Poor', 'City', 'Thousand'],\n",
            "      dtype=object), array(['False', 'Adolescent', 'Prole', 'Poor', 'City', 'Thousand'],\n",
            "      dtype=object), array(['False', 'Senior', 'Prole', 'Poor', 'City', 'Thousand'],\n",
            "      dtype=object), array(['False', 'Adult', 'Prole', 'Excellent', 'City', 'Thousand'],\n",
            "      dtype=object), array(['False', 'Adult', 'Prole', 'Normal', 'City', 'Thousand'],\n",
            "      dtype=object), array(['False', 'Adult', 'Middle', 'Excellent', 'Suburb', 'Thousand'],\n",
            "      dtype=object), array(['False', 'Adult', 'Middle', 'Normal', 'Suburb', 'Thousand'],\n",
            "      dtype=object), array(['False', 'Adult', 'Middle', 'Poor', 'Suburb', 'Thousand'],\n",
            "      dtype=object), array(['True', 'Adolescent', 'UpperMiddle', 'Poor', 'Secure', 'Thousand'],\n",
            "      dtype=object), array(['True', 'Adolescent', 'UpperMiddle', 'Poor', 'Rural', 'Thousand'],\n",
            "      dtype=object), array(['False', 'Adult', 'UpperMiddle', 'Excellent', 'Secure', 'Thousand'],\n",
            "      dtype=object), array(['False', 'Senior', 'Prole', 'Normal', 'City', 'Thousand'],\n",
            "      dtype=object), array(['False', 'Senior', 'Middle', 'Normal', 'Secure', 'Thousand'],\n",
            "      dtype=object), array(['False', 'Adolescent', 'Prole', 'Normal', 'Rural', 'Thousand'],\n",
            "      dtype=object), array(['False', 'Adult', 'Prole', 'Poor', 'Suburb', 'Thousand'],\n",
            "      dtype=object), array(['False', 'Adult', 'Prole', 'Poor', 'Rural', 'Thousand'],\n",
            "      dtype=object), array(['False', 'Adult', 'Prole', 'Excellent', 'City', 'Thousand'],\n",
            "      dtype=object), array(['False', 'Adolescent', 'Middle', 'Normal', 'Suburb', 'Thousand'],\n",
            "      dtype=object), array(['False', 'Adult', 'Prole', 'Normal', 'City', 'Thousand'],\n",
            "      dtype=object), array(['False', 'Adult', 'Prole', 'Poor', 'City', 'Thousand'],\n",
            "      dtype=object), array(['False', 'Adult', 'Middle', 'Poor', 'Suburb', 'Thousand'],\n",
            "      dtype=object), array(['False', 'Adolescent', 'Middle', 'Poor', 'Secure', 'Thousand'],\n",
            "      dtype=object), array(['False', 'Adult', 'Prole', 'Normal', 'City', 'Thousand'],\n",
            "      dtype=object), array(['False', 'Adolescent', 'Middle', 'Excellent', 'Rural', 'Thousand'],\n",
            "      dtype=object), array(['False', 'Senior', 'UpperMiddle', 'Normal', 'Secure', 'Thousand'],\n",
            "      dtype=object), array(['False', 'Senior', 'Middle', 'Normal', 'Rural', 'Thousand'],\n",
            "      dtype=object), array(['False', 'Adult', 'Middle', 'Poor', 'Secure', 'Thousand'],\n",
            "      dtype=object), array(['False', 'Adult', 'Middle', 'Poor', 'Rural', 'Thousand'],\n",
            "      dtype=object), array(['False', 'Adult', 'Prole', 'Normal', 'Suburb', 'Thousand'],\n",
            "      dtype=object), array(['False', 'Adult', 'Prole', 'Excellent', 'City', 'Thousand'],\n",
            "      dtype=object), array(['False', 'Adult', 'Prole', 'Poor', 'City', 'Thousand'],\n",
            "      dtype=object), array(['False', 'Adult', 'Prole', 'Normal', 'City', 'Thousand'],\n",
            "      dtype=object), array(['False', 'Adult', 'Prole', 'Normal', 'City', 'Thousand'],\n",
            "      dtype=object), array(['False', 'Adult', 'UpperMiddle', 'Poor', 'Secure', 'Thousand'],\n",
            "      dtype=object), array(['False', 'Senior', 'Prole', 'Poor', 'Rural', 'Thousand'],\n",
            "      dtype=object), array(['False', 'Adult', 'Middle', 'Excellent', 'Secure', 'Thousand'],\n",
            "      dtype=object), array(['False', 'Adult', 'Middle', 'Normal', 'Secure', 'Thousand'],\n",
            "      dtype=object), array(['False', 'Adolescent', 'Prole', 'Normal', 'City', 'Thousand'],\n",
            "      dtype=object), array(['False', 'Adult', 'Middle', 'Poor', 'Suburb', 'Thousand'],\n",
            "      dtype=object), array(['False', 'Adult', 'Prole', 'Poor', 'City', 'Thousand'],\n",
            "      dtype=object), array(['False', 'Adult', 'Prole', 'Normal', 'City', 'Thousand'],\n",
            "      dtype=object), array(['False', 'Senior', 'UpperMiddle', 'Excellent', 'Secure',\n",
            "       'Thousand'], dtype=object), array(['False', 'Senior', 'UpperMiddle', 'Poor', 'Secure', 'Thousand'],\n",
            "      dtype=object), array(['False', 'Adolescent', 'UpperMiddle', 'Normal', 'Secure',\n",
            "       'Thousand'], dtype=object), array(['False', 'Adolescent', 'Middle', 'Poor', 'Suburb', 'Thousand'],\n",
            "      dtype=object), array(['False', 'Adult', 'Prole', 'Normal', 'Rural', 'Thousand'],\n",
            "      dtype=object), array(['False', 'Adult', 'Prole', 'Normal', 'Rural', 'Thousand'],\n",
            "      dtype=object), array(['False', 'Adult', 'Middle', 'Poor', 'Suburb', 'Thousand'],\n",
            "      dtype=object), array(['False', 'Senior', 'UpperMiddle', 'Excellent', 'Secure',\n",
            "       'Thousand'], dtype=object), array(['False', 'Adult', 'Prole', 'Poor', 'Rural', 'Thousand'],\n",
            "      dtype=object), array(['False', 'Senior', 'Prole', 'Excellent', 'Rural', 'Thousand'],\n",
            "      dtype=object), array(['False', 'Adult', 'Middle', 'Poor', 'Secure', 'Thousand'],\n",
            "      dtype=object), array(['False', 'Senior', 'UpperMiddle', 'Normal', 'Secure', 'Thousand'],\n",
            "      dtype=object), array(['False', 'Adolescent', 'Prole', 'Excellent', 'City', 'Thousand'],\n",
            "      dtype=object), array(['False', 'Adult', 'Prole', 'Normal', 'City', 'Thousand'],\n",
            "      dtype=object), array(['False', 'Adult', 'Prole', 'Normal', 'City', 'Thousand'],\n",
            "      dtype=object), array(['False', 'Adult', 'Middle', 'Normal', 'Suburb', 'Thousand'],\n",
            "      dtype=object), array(['False', 'Adult', 'Prole', 'Normal', 'City', 'Thousand'],\n",
            "      dtype=object), array(['False', 'Adolescent', 'Prole', 'Normal', 'City', 'Thousand'],\n",
            "      dtype=object), array(['False', 'Adult', 'Middle', 'Normal', 'Secure', 'Thousand'],\n",
            "      dtype=object), array(['False', 'Senior', 'UpperMiddle', 'Normal', 'Suburb', 'Thousand'],\n",
            "      dtype=object), array(['False', 'Senior', 'Middle', 'Excellent', 'Suburb', 'Thousand'],\n",
            "      dtype=object), array(['False', 'Adult', 'Prole', 'Normal', 'City', 'Thousand'],\n",
            "      dtype=object), array(['False', 'Senior', 'Prole', 'Normal', 'City', 'Thousand'],\n",
            "      dtype=object), array(['False', 'Senior', 'Prole', 'Normal', 'City', 'Thousand'],\n",
            "      dtype=object), array(['False', 'Senior', 'Middle', 'Normal', 'Secure', 'Thousand'],\n",
            "      dtype=object), array(['False', 'Senior', 'Prole', 'Normal', 'City', 'Thousand'],\n",
            "      dtype=object), array(['False', 'Senior', 'Prole', 'Normal', 'City', 'Thousand'],\n",
            "      dtype=object), array(['True', 'Adolescent', 'Middle', 'Poor', 'Secure', 'Thousand'],\n",
            "      dtype=object), array(['False', 'Adult', 'UpperMiddle', 'Poor', 'Suburb', 'Thousand'],\n",
            "      dtype=object), array(['False', 'Adolescent', 'Middle', 'Poor', 'Suburb', 'Thousand'],\n",
            "      dtype=object), array(['False', 'Adult', 'Prole', 'Normal', 'Rural', 'Thousand'],\n",
            "      dtype=object), array(['False', 'Adult', 'Prole', 'Poor', 'City', 'Thousand'],\n",
            "      dtype=object), array(['False', 'Senior', 'Middle', 'Normal', 'Secure', 'Thousand'],\n",
            "      dtype=object), array(['False', 'Adolescent', 'Middle', 'Poor', 'Suburb', 'Thousand'],\n",
            "      dtype=object), array(['False', 'Adult', 'UpperMiddle', 'Normal', 'Secure', 'Thousand'],\n",
            "      dtype=object), array(['False', 'Adult', 'Middle', 'Poor', 'Suburb', 'Thousand'],\n",
            "      dtype=object), array(['False', 'Senior', 'Prole', 'Poor', 'City', 'Thousand'],\n",
            "      dtype=object), array(['False', 'Adolescent', 'Prole', 'Poor', 'City', 'Thousand'],\n",
            "      dtype=object), array(['False', 'Senior', 'Prole', 'Normal', 'City', 'Thousand'],\n",
            "      dtype=object), array(['False', 'Adult', 'Middle', 'Normal', 'Suburb', 'Thousand'],\n",
            "      dtype=object), array(['False', 'Adult', 'Prole', 'Normal', 'City', 'Thousand'],\n",
            "      dtype=object), array(['False', 'Adult', 'Prole', 'Normal', 'City', 'Thousand'],\n",
            "      dtype=object), array(['False', 'Senior', 'Prole', 'Normal', 'City', 'Thousand'],\n",
            "      dtype=object), array(['False', 'Adolescent', 'Prole', 'Normal', 'City', 'Thousand'],\n",
            "      dtype=object), array(['False', 'Adult', 'Prole', 'Poor', 'City', 'Thousand'],\n",
            "      dtype=object), array(['False', 'Senior', 'Middle', 'Normal', 'Suburb', 'Thousand'],\n",
            "      dtype=object), array(['False', 'Adult', 'Middle', 'Normal', 'Suburb', 'Thousand'],\n",
            "      dtype=object), array(['False', 'Adolescent', 'Prole', 'Poor', 'City', 'Thousand'],\n",
            "      dtype=object), array(['False', 'Adult', 'Prole', 'Poor', 'City', 'Thousand'],\n",
            "      dtype=object), array(['False', 'Adult', 'Prole', 'Normal', 'City', 'Thousand'],\n",
            "      dtype=object), array(['False', 'Adult', 'Middle', 'Normal', 'Suburb', 'Thousand'],\n",
            "      dtype=object), array(['False', 'Senior', 'UpperMiddle', 'Excellent', 'Secure',\n",
            "       'Thousand'], dtype=object), array(['True', 'Adolescent', 'UpperMiddle', 'Poor', 'Secure', 'Thousand'],\n",
            "      dtype=object), array(['False', 'Senior', 'Middle', 'Excellent', 'Rural', 'Thousand'],\n",
            "      dtype=object), array(['False', 'Senior', 'Prole', 'Normal', 'City', 'Thousand'],\n",
            "      dtype=object), array(['False', 'Senior', 'UpperMiddle', 'Excellent', 'Secure',\n",
            "       'Thousand'], dtype=object), array(['False', 'Adult', 'UpperMiddle', 'Normal', 'Secure', 'Thousand'],\n",
            "      dtype=object), array(['False', 'Adult', 'Middle', 'Poor', 'Suburb', 'Thousand'],\n",
            "      dtype=object), array(['True', 'Adolescent', 'Prole', 'Poor', 'City', 'Thousand'],\n",
            "      dtype=object), array(['False', 'Adolescent', 'Middle', 'Normal', 'Suburb', 'Thousand'],\n",
            "      dtype=object), array(['False', 'Adult', 'Prole', 'Normal', 'City', 'Thousand'],\n",
            "      dtype=object), array(['False', 'Adult', 'Prole', 'Normal', 'Rural', 'Thousand'],\n",
            "      dtype=object), array(['False', 'Senior', 'UpperMiddle', 'Normal', 'Secure', 'Thousand'],\n",
            "      dtype=object), array(['False', 'Senior', 'Prole', 'Normal', 'City', 'Thousand'],\n",
            "      dtype=object), array(['False', 'Adult', 'Prole', 'Normal', 'City', 'Thousand'],\n",
            "      dtype=object), array(['False', 'Adult', 'Prole', 'Normal', 'City', 'Thousand'],\n",
            "      dtype=object), array(['False', 'Adult', 'UpperMiddle', 'Excellent', 'Secure', 'Thousand'],\n",
            "      dtype=object), array(['False', 'Senior', 'UpperMiddle', 'Normal', 'Secure', 'Thousand'],\n",
            "      dtype=object), array(['False', 'Adult', 'Middle', 'Poor', 'Suburb', 'Thousand'],\n",
            "      dtype=object), array(['False', 'Adult', 'Prole', 'Normal', 'Rural', 'Thousand'],\n",
            "      dtype=object), array(['False', 'Senior', 'UpperMiddle', 'Poor', 'Secure', 'Thousand'],\n",
            "      dtype=object), array(['False', 'Adult', 'Middle', 'Poor', 'Suburb', 'Thousand'],\n",
            "      dtype=object), array(['False', 'Senior', 'Prole', 'Excellent', 'City', 'Thousand'],\n",
            "      dtype=object), array(['False', 'Adolescent', 'Middle', 'Poor', 'Suburb', 'Thousand'],\n",
            "      dtype=object), array(['False', 'Adult', 'Prole', 'Poor', 'City', 'Thousand'],\n",
            "      dtype=object), array(['False', 'Adult', 'Middle', 'Normal', 'Secure', 'Thousand'],\n",
            "      dtype=object), array(['False', 'Adult', 'Middle', 'Normal', 'Secure', 'Thousand'],\n",
            "      dtype=object), array(['False', 'Senior', 'Prole', 'Normal', 'Rural', 'Thousand'],\n",
            "      dtype=object), array(['False', 'Adolescent', 'Middle', 'Poor', 'Rural', 'Thousand'],\n",
            "      dtype=object), array(['False', 'Senior', 'Prole', 'Poor', 'Rural', 'Thousand'],\n",
            "      dtype=object), array(['False', 'Adult', 'UpperMiddle', 'Poor', 'Secure', 'Thousand'],\n",
            "      dtype=object), array(['False', 'Adult', 'Middle', 'Poor', 'Suburb', 'Thousand'],\n",
            "      dtype=object), array(['True', 'Adolescent', 'UpperMiddle', 'Normal', 'City', 'Thousand'],\n",
            "      dtype=object), array(['False', 'Adolescent', 'Prole', 'Excellent', 'City', 'Thousand'],\n",
            "      dtype=object), array(['False', 'Adult', 'UpperMiddle', 'Excellent', 'City', 'Thousand'],\n",
            "      dtype=object), array(['False', 'Adult', 'Prole', 'Excellent', 'City', 'Thousand'],\n",
            "      dtype=object), array(['False', 'Adult', 'Middle', 'Excellent', 'Secure', 'Thousand'],\n",
            "      dtype=object), array(['False', 'Adult', 'Prole', 'Excellent', 'City', 'Thousand'],\n",
            "      dtype=object), array(['False', 'Senior', 'Middle', 'Normal', 'Secure', 'Thousand'],\n",
            "      dtype=object), array(['False', 'Senior', 'Prole', 'Poor', 'Suburb', 'Thousand'],\n",
            "      dtype=object), array(['False', 'Adult', 'Prole', 'Excellent', 'City', 'Thousand'],\n",
            "      dtype=object), array(['False', 'Adult', 'Prole', 'Poor', 'Rural', 'Thousand'],\n",
            "      dtype=object), array(['False', 'Adult', 'Prole', 'Normal', 'Suburb', 'Thousand'],\n",
            "      dtype=object), array(['False', 'Senior', 'UpperMiddle', 'Poor', 'Secure', 'Thousand'],\n",
            "      dtype=object), array(['False', 'Adult', 'Middle', 'Normal', 'Suburb', 'Thousand'],\n",
            "      dtype=object), array(['False', 'Senior', 'UpperMiddle', 'Poor', 'City', 'Thousand'],\n",
            "      dtype=object), array(['False', 'Adult', 'Middle', 'Excellent', 'Suburb', 'Thousand'],\n",
            "      dtype=object), array(['False', 'Adult', 'Middle', 'Poor', 'Suburb', 'Thousand'],\n",
            "      dtype=object), array(['False', 'Adult', 'UpperMiddle', 'Normal', 'Suburb', 'Thousand'],\n",
            "      dtype=object), array(['False', 'Adult', 'Middle', 'Poor', 'Suburb', 'Thousand'],\n",
            "      dtype=object), array(['False', 'Adult', 'UpperMiddle', 'Normal', 'Rural', 'Thousand'],\n",
            "      dtype=object), array(['False', 'Senior', 'UpperMiddle', 'Excellent', 'Secure',\n",
            "       'Thousand'], dtype=object), array(['False', 'Adolescent', 'Prole', 'Poor', 'City', 'Thousand'],\n",
            "      dtype=object), array(['False', 'Adolescent', 'Prole', 'Poor', 'City', 'Thousand'],\n",
            "      dtype=object), array(['False', 'Adult', 'Middle', 'Normal', 'Secure', 'Thousand'],\n",
            "      dtype=object), array(['False', 'Senior', 'Middle', 'Normal', 'Secure', 'Thousand'],\n",
            "      dtype=object), array(['False', 'Adult', 'Prole', 'Normal', 'Rural', 'Thousand'],\n",
            "      dtype=object), array(['False', 'Adult', 'Prole', 'Excellent', 'City', 'Thousand'],\n",
            "      dtype=object), array(['False', 'Adult', 'UpperMiddle', 'Poor', 'City', 'Thousand'],\n",
            "      dtype=object), array(['False', 'Adult', 'Prole', 'Poor', 'City', 'Thousand'],\n",
            "      dtype=object), array(['False', 'Adult', 'Middle', 'Poor', 'Suburb', 'Thousand'],\n",
            "      dtype=object), array(['False', 'Adult', 'Middle', 'Poor', 'Suburb', 'Thousand'],\n",
            "      dtype=object), array(['False', 'Adult', 'UpperMiddle', 'Poor', 'Secure', 'Thousand'],\n",
            "      dtype=object), array(['False', 'Adult', 'Prole', 'Poor', 'City', 'Thousand'],\n",
            "      dtype=object), array(['False', 'Adult', 'Middle', 'Normal', 'Suburb', 'Thousand'],\n",
            "      dtype=object), array(['False', 'Adolescent', 'UpperMiddle', 'Poor', 'City', 'Thousand'],\n",
            "      dtype=object), array(['True', 'Adolescent', 'Prole', 'Poor', 'City', 'Thousand'],\n",
            "      dtype=object), array(['False', 'Adult', 'Prole', 'Poor', 'City', 'Thousand'],\n",
            "      dtype=object), array(['False', 'Adult', 'Middle', 'Excellent', 'Suburb', 'Thousand'],\n",
            "      dtype=object), array(['False', 'Adult', 'Middle', 'Excellent', 'Suburb', 'Thousand'],\n",
            "      dtype=object), array(['False', 'Adult', 'Middle', 'Excellent', 'Secure', 'Thousand'],\n",
            "      dtype=object), array(['False', 'Adult', 'Prole', 'Normal', 'City', 'Thousand'],\n",
            "      dtype=object), array(['False', 'Senior', 'UpperMiddle', 'Normal', 'Rural', 'Thousand'],\n",
            "      dtype=object), array(['False', 'Adult', 'Middle', 'Excellent', 'Suburb', 'Thousand'],\n",
            "      dtype=object), array(['False', 'Senior', 'Middle', 'Excellent', 'Secure', 'Thousand'],\n",
            "      dtype=object), array(['False', 'Adult', 'Middle', 'Poor', 'City', 'Thousand'],\n",
            "      dtype=object), array(['False', 'Adult', 'UpperMiddle', 'Poor', 'Rural', 'Thousand'],\n",
            "      dtype=object), array(['False', 'Adult', 'Prole', 'Poor', 'City', 'Thousand'],\n",
            "      dtype=object), array(['False', 'Adult', 'Prole', 'Normal', 'City', 'Thousand'],\n",
            "      dtype=object), array(['False', 'Adult', 'Middle', 'Normal', 'City', 'Thousand'],\n",
            "      dtype=object), array(['False', 'Adolescent', 'Middle', 'Poor', 'Secure', 'Thousand'],\n",
            "      dtype=object), array(['False', 'Adult', 'Prole', 'Poor', 'City', 'Thousand'],\n",
            "      dtype=object), array(['True', 'Adolescent', 'Middle', 'Excellent', 'Secure', 'Thousand'],\n",
            "      dtype=object), array(['False', 'Adolescent', 'Middle', 'Normal', 'Suburb', 'Thousand'],\n",
            "      dtype=object), array(['False', 'Senior', 'UpperMiddle', 'Normal', 'Secure', 'Thousand'],\n",
            "      dtype=object), array(['False', 'Senior', 'Prole', 'Normal', 'City', 'Thousand'],\n",
            "      dtype=object), array(['False', 'Adolescent', 'UpperMiddle', 'Excellent', 'Secure',\n",
            "       'Thousand'], dtype=object), array(['False', 'Adult', 'Prole', 'Normal', 'City', 'Thousand'],\n",
            "      dtype=object), array(['False', 'Adult', 'Middle', 'Normal', 'Secure', 'Thousand'],\n",
            "      dtype=object), array(['False', 'Adult', 'Middle', 'Poor', 'Secure', 'Thousand'],\n",
            "      dtype=object), array(['False', 'Adult', 'Wealthy', 'Normal', 'Secure', 'Thousand'],\n",
            "      dtype=object), array(['False', 'Adolescent', 'Middle', 'Normal', 'Suburb', 'Thousand'],\n",
            "      dtype=object), array(['False', 'Adult', 'UpperMiddle', 'Normal', 'Secure', 'Thousand'],\n",
            "      dtype=object), array(['False', 'Adolescent', 'Prole', 'Normal', 'City', 'Thousand'],\n",
            "      dtype=object), array(['False', 'Adolescent', 'Middle', 'Poor', 'Suburb', 'Thousand'],\n",
            "      dtype=object), array(['False', 'Senior', 'Middle', 'Excellent', 'Secure', 'Thousand'],\n",
            "      dtype=object), array(['False', 'Adult', 'Middle', 'Poor', 'Rural', 'Thousand'],\n",
            "      dtype=object), array(['False', 'Senior', 'UpperMiddle', 'Excellent', 'Secure',\n",
            "       'Thousand'], dtype=object), array(['True', 'Adolescent', 'UpperMiddle', 'Normal', 'Suburb',\n",
            "       'Thousand'], dtype=object), array(['False', 'Adolescent', 'UpperMiddle', 'Excellent', 'Suburb',\n",
            "       'Thousand'], dtype=object), array(['False', 'Adult', 'Middle', 'Normal', 'Secure', 'Thousand'],\n",
            "      dtype=object), array(['False', 'Adult', 'Prole', 'Normal', 'City', 'Thousand'],\n",
            "      dtype=object), array(['False', 'Adult', 'Prole', 'Normal', 'City', 'Thousand'],\n",
            "      dtype=object), array(['False', 'Adult', 'Prole', 'Poor', 'City', 'Thousand'],\n",
            "      dtype=object), array(['False', 'Adult', 'Prole', 'Normal', 'City', 'Thousand'],\n",
            "      dtype=object), array(['False', 'Adult', 'UpperMiddle', 'Normal', 'Suburb', 'Thousand'],\n",
            "      dtype=object), array(['False', 'Adult', 'Middle', 'Normal', 'Rural', 'Thousand'],\n",
            "      dtype=object), array(['False', 'Adolescent', 'Middle', 'Poor', 'Rural', 'Thousand'],\n",
            "      dtype=object), array(['False', 'Adolescent', 'Prole', 'Poor', 'City', 'Thousand'],\n",
            "      dtype=object), array(['False', 'Adult', 'Middle', 'Poor', 'Suburb', 'Thousand'],\n",
            "      dtype=object), array(['False', 'Adult', 'Middle', 'Excellent', 'City', 'Thousand'],\n",
            "      dtype=object), array(['False', 'Senior', 'Middle', 'Normal', 'Secure', 'Thousand'],\n",
            "      dtype=object), array(['False', 'Adult', 'Middle', 'Normal', 'Suburb', 'Thousand'],\n",
            "      dtype=object), array(['False', 'Adolescent', 'Middle', 'Normal', 'Secure', 'Thousand'],\n",
            "      dtype=object), array(['False', 'Senior', 'Middle', 'Normal', 'Secure', 'Thousand'],\n",
            "      dtype=object), array(['False', 'Adult', 'Prole', 'Poor', 'Rural', 'Thousand'],\n",
            "      dtype=object), array(['False', 'Adolescent', 'Prole', 'Poor', 'City', 'Thousand'],\n",
            "      dtype=object), array(['False', 'Adult', 'Wealthy', 'Normal', 'Secure', 'Thousand'],\n",
            "      dtype=object), array(['False', 'Adult', 'Middle', 'Normal', 'Suburb', 'Thousand'],\n",
            "      dtype=object), array(['False', 'Adult', 'UpperMiddle', 'Excellent', 'Suburb', 'Thousand'],\n",
            "      dtype=object), array(['False', 'Adult', 'Prole', 'Normal', 'City', 'Thousand'],\n",
            "      dtype=object), array(['False', 'Adult', 'Middle', 'Excellent', 'City', 'Thousand'],\n",
            "      dtype=object), array(['False', 'Adult', 'Prole', 'Poor', 'City', 'Thousand'],\n",
            "      dtype=object), array(['False', 'Adult', 'Prole', 'Excellent', 'Rural', 'Thousand'],\n",
            "      dtype=object), array(['False', 'Adult', 'Prole', 'Normal', 'City', 'Thousand'],\n",
            "      dtype=object), array(['False', 'Senior', 'Prole', 'Excellent', 'City', 'Thousand'],\n",
            "      dtype=object), array(['False', 'Adult', 'Middle', 'Poor', 'Secure', 'Thousand'],\n",
            "      dtype=object), array(['False', 'Senior', 'Middle', 'Excellent', 'Secure', 'Thousand'],\n",
            "      dtype=object), array(['False', 'Adolescent', 'Middle', 'Normal', 'Secure', 'Thousand'],\n",
            "      dtype=object), array(['False', 'Senior', 'Prole', 'Normal', 'City', 'Thousand'],\n",
            "      dtype=object), array(['False', 'Adult', 'Middle', 'Normal', 'Suburb', 'Thousand'],\n",
            "      dtype=object), array(['False', 'Adolescent', 'Prole', 'Normal', 'City', 'Thousand'],\n",
            "      dtype=object), array(['False', 'Adult', 'Middle', 'Poor', 'Secure', 'Thousand'],\n",
            "      dtype=object), array(['False', 'Senior', 'Middle', 'Normal', 'Suburb', 'Thousand'],\n",
            "      dtype=object), array(['False', 'Adult', 'UpperMiddle', 'Normal', 'Suburb', 'Thousand'],\n",
            "      dtype=object), array(['False', 'Adult', 'Prole', 'Normal', 'Rural', 'Thousand'],\n",
            "      dtype=object), array(['False', 'Adult', 'UpperMiddle', 'Poor', 'Secure', 'Thousand'],\n",
            "      dtype=object), array(['False', 'Adult', 'UpperMiddle', 'Normal', 'Secure', 'Thousand'],\n",
            "      dtype=object), array(['False', 'Adult', 'Prole', 'Normal', 'City', 'Thousand'],\n",
            "      dtype=object), array(['False', 'Adult', 'Middle', 'Poor', 'Rural', 'Thousand'],\n",
            "      dtype=object), array(['False', 'Adult', 'Middle', 'Normal', 'Secure', 'Thousand'],\n",
            "      dtype=object), array(['False', 'Adolescent', 'Middle', 'Poor', 'Secure', 'Thousand'],\n",
            "      dtype=object), array(['False', 'Adult', 'Middle', 'Excellent', 'Secure', 'Thousand'],\n",
            "      dtype=object), array(['False', 'Adult', 'Prole', 'Poor', 'City', 'Thousand'],\n",
            "      dtype=object), array(['False', 'Adult', 'Middle', 'Poor', 'Suburb', 'Thousand'],\n",
            "      dtype=object), array(['False', 'Senior', 'UpperMiddle', 'Excellent', 'Secure',\n",
            "       'Thousand'], dtype=object), array(['False', 'Adult', 'Middle', 'Poor', 'Suburb', 'Thousand'],\n",
            "      dtype=object), array(['False', 'Senior', 'UpperMiddle', 'Normal', 'Secure', 'Thousand'],\n",
            "      dtype=object), array(['False', 'Adult', 'Middle', 'Poor', 'Suburb', 'Thousand'],\n",
            "      dtype=object), array(['False', 'Adolescent', 'Middle', 'Poor', 'Secure', 'Thousand'],\n",
            "      dtype=object), array(['False', 'Adult', 'UpperMiddle', 'Normal', 'Rural', 'Thousand'],\n",
            "      dtype=object), array(['False', 'Adult', 'Middle', 'Normal', 'Suburb', 'Thousand'],\n",
            "      dtype=object), array(['False', 'Adult', 'Middle', 'Normal', 'Suburb', 'Thousand'],\n",
            "      dtype=object), array(['False', 'Adult', 'Prole', 'Normal', 'City', 'Thousand'],\n",
            "      dtype=object), array(['False', 'Senior', 'Wealthy', 'Normal', 'Secure', 'Thousand'],\n",
            "      dtype=object), array(['False', 'Senior', 'UpperMiddle', 'Poor', 'Rural', 'Thousand'],\n",
            "      dtype=object), array(['False', 'Adult', 'Prole', 'Excellent', 'City', 'Thousand'],\n",
            "      dtype=object), array(['False', 'Senior', 'UpperMiddle', 'Excellent', 'Suburb',\n",
            "       'Thousand'], dtype=object), array(['False', 'Adult', 'Middle', 'Normal', 'Rural', 'Thousand'],\n",
            "      dtype=object), array(['False', 'Adolescent', 'Middle', 'Normal', 'Rural', 'Thousand'],\n",
            "      dtype=object), array(['False', 'Adult', 'Prole', 'Excellent', 'City', 'Thousand'],\n",
            "      dtype=object), array(['False', 'Adolescent', 'Prole', 'Poor', 'City', 'Thousand'],\n",
            "      dtype=object), array(['False', 'Adult', 'Middle', 'Normal', 'Suburb', 'Thousand'],\n",
            "      dtype=object), array(['False', 'Adolescent', 'Prole', 'Poor', 'City', 'Thousand'],\n",
            "      dtype=object), array(['False', 'Adult', 'Prole', 'Excellent', 'City', 'Thousand'],\n",
            "      dtype=object), array(['False', 'Senior', 'Prole', 'Normal', 'City', 'Thousand'],\n",
            "      dtype=object), array(['False', 'Adult', 'Prole', 'Normal', 'City', 'Thousand'],\n",
            "      dtype=object), array(['False', 'Senior', 'Prole', 'Excellent', 'Rural', 'Thousand'],\n",
            "      dtype=object), array(['False', 'Adult', 'Middle', 'Excellent', 'Suburb', 'Thousand'],\n",
            "      dtype=object), array(['False', 'Adult', 'UpperMiddle', 'Poor', 'Suburb', 'Thousand'],\n",
            "      dtype=object), array(['False', 'Senior', 'Prole', 'Poor', 'City', 'Thousand'],\n",
            "      dtype=object), array(['False', 'Adult', 'Prole', 'Poor', 'City', 'Thousand'],\n",
            "      dtype=object), array(['False', 'Adult', 'Prole', 'Excellent', 'Rural', 'Thousand'],\n",
            "      dtype=object), array(['False', 'Senior', 'UpperMiddle', 'Normal', 'Secure', 'Thousand'],\n",
            "      dtype=object), array(['False', 'Adult', 'Prole', 'Normal', 'City', 'Thousand'],\n",
            "      dtype=object), array(['False', 'Adult', 'Middle', 'Poor', 'Secure', 'Thousand'],\n",
            "      dtype=object), array(['False', 'Adult', 'Middle', 'Normal', 'Secure', 'Thousand'],\n",
            "      dtype=object), array(['False', 'Adolescent', 'Prole', 'Poor', 'City', 'Thousand'],\n",
            "      dtype=object), array(['False', 'Adolescent', 'Prole', 'Excellent', 'Suburb', 'Thousand'],\n",
            "      dtype=object), array(['False', 'Adult', 'UpperMiddle', 'Normal', 'Secure', 'Thousand'],\n",
            "      dtype=object), array(['False', 'Adult', 'Middle', 'Normal', 'Secure', 'Thousand'],\n",
            "      dtype=object), array(['False', 'Adolescent', 'UpperMiddle', 'Excellent', 'Secure',\n",
            "       'Thousand'], dtype=object), array(['False', 'Adult', 'Middle', 'Poor', 'Secure', 'Thousand'],\n",
            "      dtype=object), array(['False', 'Adult', 'Middle', 'Poor', 'Secure', 'Thousand'],\n",
            "      dtype=object), array(['False', 'Adult', 'UpperMiddle', 'Normal', 'Secure', 'Thousand'],\n",
            "      dtype=object), array(['False', 'Adult', 'Middle', 'Poor', 'Suburb', 'Thousand'],\n",
            "      dtype=object), array(['False', 'Adult', 'Prole', 'Poor', 'City', 'Thousand'],\n",
            "      dtype=object), array(['False', 'Adult', 'Middle', 'Normal', 'Secure', 'Thousand'],\n",
            "      dtype=object), array(['True', 'Adolescent', 'UpperMiddle', 'Normal', 'City', 'Thousand'],\n",
            "      dtype=object), array(['False', 'Senior', 'Prole', 'Normal', 'Rural', 'Thousand'],\n",
            "      dtype=object), array(['False', 'Senior', 'UpperMiddle', 'Normal', 'Secure', 'Thousand'],\n",
            "      dtype=object), array(['False', 'Adult', 'Middle', 'Poor', 'Secure', 'Thousand'],\n",
            "      dtype=object), array(['False', 'Senior', 'Prole', 'Poor', 'City', 'Thousand'],\n",
            "      dtype=object), array(['False', 'Adolescent', 'Prole', 'Normal', 'Rural', 'Thousand'],\n",
            "      dtype=object), array(['False', 'Adult', 'Middle', 'Excellent', 'Suburb', 'Thousand'],\n",
            "      dtype=object), array(['False', 'Senior', 'Prole', 'Normal', 'City', 'Thousand'],\n",
            "      dtype=object), array(['False', 'Adult', 'Wealthy', 'Poor', 'Secure', 'Thousand'],\n",
            "      dtype=object), array(['False', 'Adult', 'Prole', 'Excellent', 'City', 'Thousand'],\n",
            "      dtype=object), array(['False', 'Adult', 'Middle', 'Poor', 'Secure', 'Thousand'],\n",
            "      dtype=object), array(['False', 'Adult', 'Middle', 'Normal', 'Suburb', 'Thousand'],\n",
            "      dtype=object), array(['False', 'Adolescent', 'Middle', 'Poor', 'Secure', 'Thousand'],\n",
            "      dtype=object), array(['False', 'Senior', 'Prole', 'Poor', 'Rural', 'Thousand'],\n",
            "      dtype=object), array(['False', 'Adult', 'Prole', 'Normal', 'City', 'Thousand'],\n",
            "      dtype=object), array(['False', 'Adult', 'UpperMiddle', 'Poor', 'Rural', 'Thousand'],\n",
            "      dtype=object), array(['False', 'Adolescent', 'Middle', 'Poor', 'Suburb', 'Thousand'],\n",
            "      dtype=object), array(['False', 'Adult', 'Prole', 'Normal', 'City', 'Thousand'],\n",
            "      dtype=object), array(['False', 'Adult', 'Prole', 'Normal', 'City', 'Thousand'],\n",
            "      dtype=object), array(['False', 'Adolescent', 'Middle', 'Excellent', 'Suburb', 'Thousand'],\n",
            "      dtype=object), array(['False', 'Adolescent', 'Prole', 'Excellent', 'Rural', 'Thousand'],\n",
            "      dtype=object), array(['False', 'Adult', 'UpperMiddle', 'Poor', 'Suburb', 'Thousand'],\n",
            "      dtype=object), array(['False', 'Adult', 'Prole', 'Poor', 'City', 'Thousand'],\n",
            "      dtype=object), array(['False', 'Adult', 'Prole', 'Poor', 'Rural', 'Thousand'],\n",
            "      dtype=object), array(['False', 'Senior', 'Prole', 'Excellent', 'City', 'Thousand'],\n",
            "      dtype=object), array(['False', 'Adolescent', 'UpperMiddle', 'Poor', 'Secure', 'Thousand'],\n",
            "      dtype=object), array(['False', 'Adult', 'Middle', 'Poor', 'Suburb', 'Thousand'],\n",
            "      dtype=object), array(['False', 'Adult', 'UpperMiddle', 'Normal', 'Suburb', 'Thousand'],\n",
            "      dtype=object), array(['False', 'Adolescent', 'Middle', 'Poor', 'Secure', 'Thousand'],\n",
            "      dtype=object), array(['False', 'Adult', 'Middle', 'Normal', 'Suburb', 'Thousand'],\n",
            "      dtype=object), array(['True', 'Adolescent', 'UpperMiddle', 'Poor', 'Suburb', 'Thousand'],\n",
            "      dtype=object), array(['False', 'Adolescent', 'Middle', 'Poor', 'Suburb', 'Thousand'],\n",
            "      dtype=object), array(['False', 'Adult', 'Middle', 'Normal', 'Suburb', 'Thousand'],\n",
            "      dtype=object), array(['False', 'Adult', 'Prole', 'Poor', 'City', 'Thousand'],\n",
            "      dtype=object), array(['False', 'Adult', 'Middle', 'Normal', 'Secure', 'Thousand'],\n",
            "      dtype=object), array(['False', 'Adult', 'Middle', 'Poor', 'Rural', 'Thousand'],\n",
            "      dtype=object), array(['False', 'Adolescent', 'UpperMiddle', 'Normal', 'Secure',\n",
            "       'Thousand'], dtype=object), array(['False', 'Adult', 'Prole', 'Excellent', 'City', 'Thousand'],\n",
            "      dtype=object), array(['False', 'Adult', 'Prole', 'Normal', 'City', 'Thousand'],\n",
            "      dtype=object), array(['False', 'Adult', 'Middle', 'Excellent', 'City', 'Thousand'],\n",
            "      dtype=object), array(['False', 'Adult', 'Prole', 'Normal', 'City', 'Thousand'],\n",
            "      dtype=object), array(['False', 'Adult', 'Prole', 'Normal', 'Rural', 'Thousand'],\n",
            "      dtype=object), array(['False', 'Adult', 'UpperMiddle', 'Excellent', 'Secure', 'Thousand'],\n",
            "      dtype=object), array(['False', 'Adult', 'Middle', 'Normal', 'Secure', 'Thousand'],\n",
            "      dtype=object), array(['False', 'Adult', 'Prole', 'Normal', 'City', 'Thousand'],\n",
            "      dtype=object), array(['False', 'Adult', 'Middle', 'Excellent', 'Secure', 'Thousand'],\n",
            "      dtype=object), array(['False', 'Adult', 'UpperMiddle', 'Poor', 'Suburb', 'Thousand'],\n",
            "      dtype=object), array(['False', 'Adult', 'UpperMiddle', 'Normal', 'Rural', 'Thousand'],\n",
            "      dtype=object), array(['False', 'Senior', 'Prole', 'Normal', 'City', 'Thousand'],\n",
            "      dtype=object), array(['False', 'Senior', 'Middle', 'Normal', 'Secure', 'Thousand'],\n",
            "      dtype=object), array(['False', 'Adult', 'Middle', 'Normal', 'Secure', 'Thousand'],\n",
            "      dtype=object), array(['False', 'Adult', 'Prole', 'Poor', 'City', 'Thousand'],\n",
            "      dtype=object), array(['False', 'Adult', 'Middle', 'Normal', 'Suburb', 'Thousand'],\n",
            "      dtype=object), array(['False', 'Adult', 'UpperMiddle', 'Normal', 'City', 'Thousand'],\n",
            "      dtype=object), array(['True', 'Adolescent', 'Middle', 'Poor', 'Suburb', 'Thousand'],\n",
            "      dtype=object), array(['False', 'Adult', 'Middle', 'Normal', 'Rural', 'Thousand'],\n",
            "      dtype=object), array(['False', 'Adolescent', 'Prole', 'Poor', 'City', 'Thousand'],\n",
            "      dtype=object), array(['False', 'Adolescent', 'UpperMiddle', 'Poor', 'Secure', 'Thousand'],\n",
            "      dtype=object), array(['False', 'Adolescent', 'Middle', 'Poor', 'Secure', 'Thousand'],\n",
            "      dtype=object), array(['False', 'Adult', 'Prole', 'Poor', 'City', 'Thousand'],\n",
            "      dtype=object), array(['False', 'Senior', 'UpperMiddle', 'Excellent', 'Secure',\n",
            "       'Thousand'], dtype=object), array(['False', 'Adult', 'UpperMiddle', 'Poor', 'City', 'Thousand'],\n",
            "      dtype=object), array(['False', 'Adult', 'Middle', 'Excellent', 'Suburb', 'Thousand'],\n",
            "      dtype=object), array(['False', 'Adult', 'Prole', 'Normal', 'City', 'Thousand'],\n",
            "      dtype=object), array(['False', 'Adult', 'Prole', 'Excellent', 'City', 'Thousand'],\n",
            "      dtype=object), array(['False', 'Adolescent', 'Middle', 'Normal', 'Secure', 'Thousand'],\n",
            "      dtype=object), array(['False', 'Senior', 'Prole', 'Normal', 'City', 'Thousand'],\n",
            "      dtype=object), array(['False', 'Adult', 'UpperMiddle', 'Normal', 'Suburb', 'Thousand'],\n",
            "      dtype=object), array(['True', 'Adolescent', 'Prole', 'Poor', 'City', 'Thousand'],\n",
            "      dtype=object), array(['False', 'Senior', 'Middle', 'Poor', 'Suburb', 'Thousand'],\n",
            "      dtype=object), array(['False', 'Senior', 'UpperMiddle', 'Excellent', 'Secure',\n",
            "       'Thousand'], dtype=object), array(['False', 'Adult', 'Middle', 'Poor', 'Suburb', 'Thousand'],\n",
            "      dtype=object), array(['False', 'Adult', 'Middle', 'Normal', 'Suburb', 'Thousand'],\n",
            "      dtype=object), array(['False', 'Adult', 'Prole', 'Excellent', 'City', 'Thousand'],\n",
            "      dtype=object), array(['False', 'Senior', 'UpperMiddle', 'Normal', 'Secure', 'Thousand'],\n",
            "      dtype=object), array(['False', 'Adult', 'UpperMiddle', 'Normal', 'Secure', 'Thousand'],\n",
            "      dtype=object), array(['False', 'Senior', 'Prole', 'Normal', 'City', 'Thousand'],\n",
            "      dtype=object), array(['False', 'Senior', 'Middle', 'Normal', 'Secure', 'Thousand'],\n",
            "      dtype=object), array(['False', 'Adult', 'Prole', 'Poor', 'City', 'Thousand'],\n",
            "      dtype=object), array(['False', 'Adult', 'Prole', 'Excellent', 'City', 'Thousand'],\n",
            "      dtype=object), array(['False', 'Senior', 'Middle', 'Poor', 'Secure', 'Thousand'],\n",
            "      dtype=object), array(['False', 'Adult', 'Prole', 'Normal', 'City', 'Thousand'],\n",
            "      dtype=object), array(['False', 'Adolescent', 'Middle', 'Poor', 'Suburb', 'Thousand'],\n",
            "      dtype=object), array(['False', 'Senior', 'Prole', 'Excellent', 'Rural', 'Thousand'],\n",
            "      dtype=object), array(['False', 'Adult', 'Middle', 'Normal', 'Secure', 'Thousand'],\n",
            "      dtype=object), array(['False', 'Senior', 'UpperMiddle', 'Normal', 'Secure', 'Thousand'],\n",
            "      dtype=object), array(['False', 'Senior', 'Middle', 'Excellent', 'Secure', 'Thousand'],\n",
            "      dtype=object), array(['False', 'Adult', 'Middle', 'Normal', 'Suburb', 'Thousand'],\n",
            "      dtype=object), array(['False', 'Adult', 'UpperMiddle', 'Normal', 'Secure', 'Thousand'],\n",
            "      dtype=object), array(['False', 'Adolescent', 'Prole', 'Normal', 'City', 'Thousand'],\n",
            "      dtype=object), array(['False', 'Adult', 'Middle', 'Normal', 'Secure', 'Thousand'],\n",
            "      dtype=object), array(['False', 'Adult', 'Prole', 'Normal', 'Rural', 'Thousand'],\n",
            "      dtype=object), array(['False', 'Adult', 'Middle', 'Normal', 'Secure', 'Thousand'],\n",
            "      dtype=object), array(['False', 'Adult', 'Prole', 'Excellent', 'City', 'Thousand'],\n",
            "      dtype=object), array(['False', 'Senior', 'Middle', 'Normal', 'Secure', 'Thousand'],\n",
            "      dtype=object), array(['False', 'Adult', 'Prole', 'Normal', 'City', 'Thousand'],\n",
            "      dtype=object), array(['False', 'Adolescent', 'Middle', 'Normal', 'Secure', 'Thousand'],\n",
            "      dtype=object), array(['False', 'Adult', 'UpperMiddle', 'Poor', 'City', 'Thousand'],\n",
            "      dtype=object), array(['False', 'Senior', 'Middle', 'Normal', 'Secure', 'Thousand'],\n",
            "      dtype=object), array(['False', 'Adolescent', 'Prole', 'Poor', 'City', 'Thousand'],\n",
            "      dtype=object), array(['False', 'Adult', 'UpperMiddle', 'Excellent', 'Secure', 'Thousand'],\n",
            "      dtype=object), array(['False', 'Senior', 'Prole', 'Poor', 'City', 'Thousand'],\n",
            "      dtype=object), array(['False', 'Adult', 'Middle', 'Normal', 'Secure', 'Thousand'],\n",
            "      dtype=object), array(['False', 'Adult', 'Middle', 'Excellent', 'Suburb', 'Thousand'],\n",
            "      dtype=object), array(['False', 'Adult', 'Prole', 'Excellent', 'Rural', 'Thousand'],\n",
            "      dtype=object), array(['False', 'Adolescent', 'Prole', 'Excellent', 'City', 'Thousand'],\n",
            "      dtype=object), array(['False', 'Adult', 'Prole', 'Normal', 'City', 'Thousand'],\n",
            "      dtype=object), array(['False', 'Senior', 'UpperMiddle', 'Normal', 'Secure', 'Thousand'],\n",
            "      dtype=object), array(['False', 'Adult', 'Middle', 'Poor', 'Secure', 'Thousand'],\n",
            "      dtype=object), array(['False', 'Adult', 'Prole', 'Normal', 'City', 'Thousand'],\n",
            "      dtype=object), array(['False', 'Adult', 'Prole', 'Excellent', 'City', 'Thousand'],\n",
            "      dtype=object), array(['False', 'Adult', 'Middle', 'Poor', 'Suburb', 'Thousand'],\n",
            "      dtype=object), array(['False', 'Adult', 'Middle', 'Normal', 'Suburb', 'Thousand'],\n",
            "      dtype=object), array(['False', 'Adult', 'Middle', 'Normal', 'Suburb', 'Thousand'],\n",
            "      dtype=object), array(['False', 'Senior', 'UpperMiddle', 'Poor', 'Secure', 'Thousand'],\n",
            "      dtype=object), array(['False', 'Adolescent', 'Middle', 'Normal', 'Suburb', 'Thousand'],\n",
            "      dtype=object), array(['False', 'Adult', 'Middle', 'Poor', 'Suburb', 'Thousand'],\n",
            "      dtype=object), array(['False', 'Senior', 'Prole', 'Excellent', 'City', 'Thousand'],\n",
            "      dtype=object), array(['False', 'Senior', 'Prole', 'Normal', 'City', 'Thousand'],\n",
            "      dtype=object), array(['False', 'Senior', 'Prole', 'Normal', 'City', 'Thousand'],\n",
            "      dtype=object), array(['False', 'Adult', 'Prole', 'Normal', 'City', 'Thousand'],\n",
            "      dtype=object), array(['False', 'Adult', 'Prole', 'Normal', 'City', 'Thousand'],\n",
            "      dtype=object), array(['False', 'Senior', 'UpperMiddle', 'Normal', 'Secure', 'Thousand'],\n",
            "      dtype=object), array(['False', 'Adult', 'Prole', 'Normal', 'City', 'Thousand'],\n",
            "      dtype=object), array(['False', 'Adolescent', 'Prole', 'Poor', 'Rural', 'Thousand'],\n",
            "      dtype=object), array(['False', 'Adult', 'Prole', 'Normal', 'City', 'Thousand'],\n",
            "      dtype=object), array(['False', 'Adult', 'Middle', 'Normal', 'Secure', 'Thousand'],\n",
            "      dtype=object), array(['False', 'Adult', 'Middle', 'Poor', 'Suburb', 'Thousand'],\n",
            "      dtype=object), array(['False', 'Senior', 'Prole', 'Normal', 'Rural', 'Thousand'],\n",
            "      dtype=object), array(['False', 'Adult', 'Prole', 'Normal', 'City', 'Thousand'],\n",
            "      dtype=object), array(['False', 'Adolescent', 'Prole', 'Poor', 'City', 'Thousand'],\n",
            "      dtype=object), array(['False', 'Adult', 'Prole', 'Normal', 'City', 'Thousand'],\n",
            "      dtype=object), array(['False', 'Adult', 'Prole', 'Normal', 'Rural', 'Thousand'],\n",
            "      dtype=object), array(['False', 'Senior', 'Middle', 'Excellent', 'Secure', 'Thousand'],\n",
            "      dtype=object), array(['True', 'Adolescent', 'Middle', 'Normal', 'Suburb', 'Thousand'],\n",
            "      dtype=object), array(['False', 'Adult', 'Prole', 'Normal', 'City', 'Thousand'],\n",
            "      dtype=object), array(['False', 'Adult', 'Prole', 'Poor', 'City', 'Thousand'],\n",
            "      dtype=object), array(['False', 'Adolescent', 'Middle', 'Normal', 'Secure', 'Thousand'],\n",
            "      dtype=object), array(['False', 'Adult', 'Prole', 'Poor', 'City', 'Thousand'],\n",
            "      dtype=object), array(['False', 'Adult', 'UpperMiddle', 'Poor', 'Secure', 'Thousand'],\n",
            "      dtype=object), array(['False', 'Adult', 'Prole', 'Normal', 'City', 'Thousand'],\n",
            "      dtype=object), array(['False', 'Adult', 'UpperMiddle', 'Normal', 'Secure', 'Thousand'],\n",
            "      dtype=object), array(['True', 'Adolescent', 'UpperMiddle', 'Excellent', 'City',\n",
            "       'Thousand'], dtype=object), array(['True', 'Adolescent', 'Middle', 'Normal', 'City', 'Thousand'],\n",
            "      dtype=object), array(['False', 'Senior', 'UpperMiddle', 'Normal', 'Secure', 'Thousand'],\n",
            "      dtype=object), array(['False', 'Adult', 'Middle', 'Normal', 'Secure', 'Thousand'],\n",
            "      dtype=object), array(['False', 'Adult', 'Middle', 'Poor', 'Suburb', 'Thousand'],\n",
            "      dtype=object), array(['False', 'Adult', 'Middle', 'Normal', 'Secure', 'Thousand'],\n",
            "      dtype=object), array(['False', 'Adult', 'Prole', 'Normal', 'City', 'Thousand'],\n",
            "      dtype=object), array(['False', 'Adolescent', 'Prole', 'Excellent', 'City', 'Thousand'],\n",
            "      dtype=object), array(['False', 'Adult', 'UpperMiddle', 'Normal', 'Suburb', 'Thousand'],\n",
            "      dtype=object), array(['False', 'Senior', 'Prole', 'Normal', 'City', 'Thousand'],\n",
            "      dtype=object), array(['False', 'Adult', 'Prole', 'Poor', 'City', 'Thousand'],\n",
            "      dtype=object), array(['False', 'Adult', 'Prole', 'Poor', 'Rural', 'Thousand'],\n",
            "      dtype=object), array(['False', 'Senior', 'UpperMiddle', 'Normal', 'Secure', 'Thousand'],\n",
            "      dtype=object), array(['False', 'Senior', 'Prole', 'Normal', 'City', 'Thousand'],\n",
            "      dtype=object), array(['False', 'Adult', 'Prole', 'Poor', 'Rural', 'Thousand'],\n",
            "      dtype=object), array(['False', 'Adult', 'Middle', 'Normal', 'Suburb', 'Thousand'],\n",
            "      dtype=object), array(['False', 'Senior', 'Wealthy', 'Excellent', 'Secure', 'Thousand'],\n",
            "      dtype=object), array(['False', 'Senior', 'Prole', 'Normal', 'City', 'Thousand'],\n",
            "      dtype=object), array(['False', 'Adult', 'Middle', 'Poor', 'Suburb', 'Thousand'],\n",
            "      dtype=object), array(['False', 'Adult', 'UpperMiddle', 'Normal', 'Suburb', 'Thousand'],\n",
            "      dtype=object), array(['False', 'Senior', 'Prole', 'Excellent', 'City', 'Thousand'],\n",
            "      dtype=object), array(['False', 'Senior', 'UpperMiddle', 'Normal', 'Secure', 'Thousand'],\n",
            "      dtype=object), array(['False', 'Adolescent', 'UpperMiddle', 'Poor', 'Suburb', 'Thousand'],\n",
            "      dtype=object), array(['False', 'Adult', 'Middle', 'Normal', 'Suburb', 'Thousand'],\n",
            "      dtype=object), array(['False', 'Senior', 'Prole', 'Excellent', 'Suburb', 'Thousand'],\n",
            "      dtype=object), array(['False', 'Adult', 'Middle', 'Poor', 'Suburb', 'Thousand'],\n",
            "      dtype=object), array(['False', 'Adult', 'UpperMiddle', 'Normal', 'Secure', 'Thousand'],\n",
            "      dtype=object), array(['False', 'Adult', 'UpperMiddle', 'Normal', 'Secure', 'Thousand'],\n",
            "      dtype=object), array(['False', 'Adult', 'Middle', 'Poor', 'Secure', 'Thousand'],\n",
            "      dtype=object), array(['False', 'Adolescent', 'Prole', 'Poor', 'Rural', 'Thousand'],\n",
            "      dtype=object), array(['False', 'Adult', 'Middle', 'Normal', 'City', 'Thousand'],\n",
            "      dtype=object), array(['False', 'Adult', 'Middle', 'Excellent', 'Secure', 'Thousand'],\n",
            "      dtype=object)]\n"
          ],
          "name": "stdout"
        }
      ]
    },
    {
      "cell_type": "code",
      "metadata": {
        "id": "j8LvGgXWUsYI"
      },
      "source": [
        "df_pred = pd.DataFrame(tr_pred)"
      ],
      "execution_count": null,
      "outputs": []
    },
    {
      "cell_type": "code",
      "metadata": {
        "id": "e0-63m4bWJk9"
      },
      "source": [
        "newdf = df_pred[df_pred.columns[5]]"
      ],
      "execution_count": null,
      "outputs": []
    },
    {
      "cell_type": "code",
      "metadata": {
        "colab": {
          "base_uri": "https://localhost:8080/"
        },
        "id": "pcJtngiPWPpL",
        "outputId": "6056de1c-fb07-4520-dfa6-ff7101cda9a7"
      },
      "source": [
        "newdf"
      ],
      "execution_count": null,
      "outputs": [
        {
          "output_type": "execute_result",
          "data": {
            "text/plain": [
              "0      Thousand\n",
              "1      Thousand\n",
              "2      Thousand\n",
              "3      Thousand\n",
              "4      Thousand\n",
              "         ...   \n",
              "995    Thousand\n",
              "996    Thousand\n",
              "997    Thousand\n",
              "998    Thousand\n",
              "999    Thousand\n",
              "Name: 5, Length: 1000, dtype: object"
            ]
          },
          "metadata": {
            "tags": []
          },
          "execution_count": 39
        }
      ]
    },
    {
      "cell_type": "code",
      "metadata": {
        "id": "xY27RHhDIaqn"
      },
      "source": [
        "from sklearn import metrics"
      ],
      "execution_count": null,
      "outputs": []
    },
    {
      "cell_type": "code",
      "metadata": {
        "colab": {
          "base_uri": "https://localhost:8080/"
        },
        "id": "I9-ANPmdHW6W",
        "outputId": "84f0f7c4-23ff-4d9e-8d15-05320c2835e4"
      },
      "source": [
        "metrics.accuracy_score(y_test, newdf)"
      ],
      "execution_count": null,
      "outputs": [
        {
          "output_type": "execute_result",
          "data": {
            "text/plain": [
              "0.827"
            ]
          },
          "metadata": {
            "tags": []
          },
          "execution_count": 41
        }
      ]
    },
    {
      "cell_type": "markdown",
      "metadata": {
        "id": "-nPfXwRTW4qn"
      },
      "source": [
        "Точность предсказания 82,7%, это говорит о том, что модель лучше доработать, чтобы использовать в жизни"
      ]
    }
  ]
}